{
 "cells": [
  {
   "cell_type": "code",
   "execution_count": 11,
   "metadata": {},
   "outputs": [],
   "source": [
    "import torch\n",
    "import torch.nn as nn\n",
    "import torch.optim as optim\n",
    "import numpy as np\n",
    "from tqdm import trange\n",
    "from torchvision import datasets, transforms\n",
    "from torch.utils.data import DataLoader\n",
    "from torch.autograd import grad\n",
    "import matplotlib.pyplot as plt\n",
    "import matplotlib.colors as colors\n",
    "\n",
    "# hyper params initalization\n",
    "_batch_size = 128\n",
    "_device = torch.device(\"cuda:0\" if torch.cuda.is_available() else \"cpu\")\n",
    "_lr_rate = 0.01\n",
    "_momentum = 0.9\n",
    "_epoch = 10"
   ]
  },
  {
   "cell_type": "code",
   "execution_count": 2,
   "metadata": {},
   "outputs": [],
   "source": [
    "# load MNIST data set into data loader\n",
    "mnist_train = datasets.MNIST(\"./data\", train=True, transform=transforms.ToTensor())\n",
    "mnist_test = datasets.MNIST(\"./data\", train=False,  transform=transforms.ToTensor())\n",
    "\n",
    "idx_3, idx_7 = mnist_train.targets == 3, mnist_train.targets == 7\n",
    "idx_train = idx_3 | idx_7\n",
    "\n",
    "idx_3, idx_7 = mnist_test.targets == 3, mnist_test.targets == 7\n",
    "idx_test = idx_3 | idx_7\n",
    "\n",
    "mnist_train.targets = mnist_train.targets[idx_train]\n",
    "mnist_train.data = mnist_train.data[idx_train]\n",
    "mnist_test.targets = mnist_test.targets[idx_test]\n",
    "mnist_test.data = mnist_test.data[idx_test]\n",
    "\n",
    "# label 0: 3, label 1: 7 \n",
    "mnist_train.targets = ((mnist_train.targets - 3)/4).float()\n",
    "mnist_test.targets = ((mnist_test.targets - 3)/4).float()\n",
    "\n",
    "train_loader = DataLoader(mnist_train, batch_size = _batch_size, shuffle=True)\n",
    "test_loader = DataLoader(mnist_test, batch_size = _batch_size, shuffle=True)"
   ]
  },
  {
   "cell_type": "code",
   "execution_count": 3,
   "metadata": {},
   "outputs": [],
   "source": [
    "avoid_zero_div = 1e-12\n",
    "\n",
    "class pgd_rand(object):\n",
    "    \"\"\" PGD attacks, with random initialization within the specified lp ball \"\"\"\n",
    "    def __init__(self, **kwargs):\n",
    "        # define default attack parameters here:\n",
    "        self.param = {'ord': np.inf,\n",
    "                      'epsilon': 0.3,\n",
    "                      'alpha': 0.01,\n",
    "                      'num_iter': 40,\n",
    "                      'restarts': 1,\n",
    "                      'loss_fn': nn.BCEWithLogitsLoss()}\n",
    "        # parse thru the dictionary and modify user-specific params\n",
    "        self.parse_param(**kwargs) \n",
    "        \n",
    "    def generate(self, model, x, y):\n",
    "        epsilon = self.param['epsilon']\n",
    "        alpha = self.param['alpha']\n",
    "        num_iter = self.param['num_iter']\n",
    "        restarts = self.param['restarts']\n",
    "        loss_fn = self.param['loss_fn']\n",
    "        p_norm = self.param['ord'] \n",
    "        \n",
    "        # implementation begins:\n",
    "        max_loss = torch.zeros(y.shape[0]).to(y.device)\n",
    "        max_delta = torch.zeros_like(x)\n",
    "        _dim = x.shape[1] * x.shape[2] * x.shape[3]\n",
    "        \n",
    "        for i in range(restarts):\n",
    "            if p_norm == np.inf:\n",
    "                delta = torch.rand_like(x, requires_grad=True)\n",
    "                delta.data = delta.data * 2. * epsilon - epsilon\n",
    "                delta.data = (x.data + delta.data).clamp(min = 0, max = 1.0) - x.data\n",
    "                for t in range(num_iter):\n",
    "                    model.zero_grad()\n",
    "                    loss = loss_fn(model(x + delta), y)\n",
    "                    loss.backward()\n",
    "                    # first we need to make sure delta is within the specified lp ball\n",
    "                    delta.data = (delta + alpha*delta.grad.detach().sign()).clamp(min = -epsilon, max = epsilon)\n",
    "                    # then we need to make sure x+delta in the next iteration is within the [0,1] range\n",
    "                    delta.data = (x.data + delta.data).clamp(min = 0, max = 1.) - x.data\n",
    "                    delta.grad.zero_()\n",
    "            \n",
    "            # added the if condition to cut 1 additional unnecessary foward pass\n",
    "            if restarts > 1:\n",
    "                all_loss = nn.CrossEntropyLoss(reduction='none')(model(x+delta),y)\n",
    "                max_delta[all_loss >= max_loss] = delta.detach()[all_loss >= max_loss]\n",
    "                max_loss = torch.max(max_loss, all_loss)\n",
    "            else:\n",
    "                max_delta = delta.detach()\n",
    "        return max_delta\n",
    "\n",
    "    def parse_param(self, **kwargs):\n",
    "        for key,value in kwargs.items():\n",
    "            if key in self.param:\n",
    "                self.param[key] = value\n"
   ]
  },
  {
   "cell_type": "code",
   "execution_count": 4,
   "metadata": {},
   "outputs": [],
   "source": [
    "class Net(nn.Module):\n",
    "    def __init__(self):\n",
    "        super(Net, self).__init__()\n",
    "        self.conv1 = nn.Conv2d(1, 1, 28, 1, bias = False)\n",
    "        torch.nn.init.xavier_uniform(self.conv1.weight)\n",
    "\n",
    "    def forward(self, x):\n",
    "        output = self.conv1(x).view(-1,1)\n",
    "        # print(output.shape)\n",
    "        return output"
   ]
  },
  {
   "cell_type": "code",
   "execution_count": 5,
   "metadata": {},
   "outputs": [],
   "source": [
    "def one_epoch(model, device, loader, opt, train = True, adv = False):\n",
    "    total_correct = 0\n",
    "    if train:\n",
    "        model.train()\n",
    "    else:\n",
    "        model.eval()\n",
    "\n",
    "    with trange(len(loader)) as t:\n",
    "        for X, y in loader:\n",
    "            X, y = X.to(device), y.to(device).float().view(-1,1)\n",
    "\n",
    "            opt.zero_grad()\n",
    "\n",
    "            if adv:\n",
    "                delta = pgd_rand().generate(model,X,y)\n",
    "                yp = model(X+delta)\n",
    "                loss = nn.BCEWithLogitsLoss()(yp, y)\n",
    "\n",
    "            else:\n",
    "                yp = model(X)\n",
    "                loss = nn.BCEWithLogitsLoss()(yp, y)\n",
    "\n",
    "            # ipdb.set_trace()\n",
    "\n",
    "            if train:\n",
    "                loss.backward()\n",
    "                opt.step()\n",
    "\n",
    "            # ipdb.set_trace()\n",
    "            batch_correct = ((yp>0) == y).sum().item()\n",
    "            total_correct += batch_correct\n",
    "            batch_acc = batch_correct / X.shape[0]\n",
    "            # total_loss_adv += loss_adv.item() * X.shape[0]\n",
    "\n",
    "            t.set_postfix(loss = loss.item(), \n",
    "                        batch_acc = '{0:.2f}%'.format(batch_acc*100), \n",
    "                        total_acc = '{0:.2f}%'.format(total_correct/loader.dataset.data.shape[0]*100))\n",
    "            t.update()"
   ]
  },
  {
   "cell_type": "code",
   "execution_count": 9,
   "metadata": {},
   "outputs": [
    {
     "name": "stderr",
     "output_type": "stream",
     "text": [
      "/h/ama/.conda/envs/general/lib/python3.6/site-packages/ipykernel_launcher.py:5: UserWarning: nn.init.xavier_uniform is now deprecated in favor of nn.init.xavier_uniform_.\n",
      "  \"\"\"\n",
      "100%|██████████| 97/97 [00:01<00:00, 76.66it/s, batch_acc=97.22%, loss=0.231, total_acc=93.58%]\n",
      "100%|██████████| 97/97 [00:01<00:00, 77.11it/s, batch_acc=100.00%, loss=0.139, total_acc=96.81%]\n",
      "100%|██████████| 97/97 [00:01<00:00, 76.68it/s, batch_acc=96.30%, loss=0.154, total_acc=97.10%] \n",
      "100%|██████████| 97/97 [00:01<00:00, 77.09it/s, batch_acc=98.15%, loss=0.11, total_acc=97.22%]  \n",
      "100%|██████████| 97/97 [00:01<00:00, 74.63it/s, batch_acc=97.22%, loss=0.0941, total_acc=97.35%]\n",
      "100%|██████████| 97/97 [00:01<00:00, 77.45it/s, batch_acc=94.44%, loss=0.128, total_acc=97.43%]  \n",
      "100%|██████████| 97/97 [00:01<00:00, 77.01it/s, batch_acc=93.52%, loss=0.175, total_acc=97.55%]  \n",
      "100%|██████████| 97/97 [00:01<00:00, 76.69it/s, batch_acc=99.07%, loss=0.0732, total_acc=97.60%] \n",
      "100%|██████████| 97/97 [00:01<00:00, 77.14it/s, batch_acc=98.15%, loss=0.0788, total_acc=97.66%] \n",
      "100%|██████████| 97/97 [00:01<00:00, 77.33it/s, batch_acc=97.22%, loss=0.116, total_acc=97.73%]  \n"
     ]
    }
   ],
   "source": [
    "model = Net().to(_device)\n",
    "# mask_weight(model, 13, device)\n",
    "# init_weight = list(model.parameters())[0].data.view(28,28).detach().cpu().numpy()\n",
    "\n",
    "\n",
    "opt = optim.SGD(model.parameters(), lr=_lr_rate)\n",
    "\n",
    "for epoch in range(1, _epoch + 1):\n",
    "    one_epoch(model, _device, train_loader, opt, train = True, adv = False)"
   ]
  },
  {
   "cell_type": "code",
   "execution_count": 26,
   "metadata": {},
   "outputs": [
    {
     "name": "stderr",
     "output_type": "stream",
     "text": [
      "100%|██████████| 12396/12396 [06:24<00:00, 32.92it/s]\n"
     ]
    }
   ],
   "source": [
    "train_loader = DataLoader(mnist_train, batch_size = 1, shuffle=True)\n",
    "test_loader = DataLoader(mnist_test, batch_size = 1, shuffle=True)\n",
    "\n",
    "\n",
    "total_3_fft = np.zeros((28,28), dtype = np.complex128)\n",
    "num_3 = 0\n",
    "total_7_fft = np.zeros((28,28), dtype = np.complex128)\n",
    "num_7 = 0\n",
    "\n",
    "with trange(len(train_loader)) as t:\n",
    "    for X,y in train_loader:\n",
    "        X, y = X.to(_device), y.to(_device).float().view(-1,1)\n",
    "        if y.item() == 0:\n",
    "            delta = pgd_rand().generate(model,X,y)\n",
    "            a = np.fft.fftshift(np.fft.fft2(delta.squeeze().detach().cpu().numpy()))\n",
    "            \n",
    "            total_3_fft += a\n",
    "            num_3 += 1\n",
    "        elif y.item() == 1:\n",
    "            delta = pgd_rand().generate(model,X,y)\n",
    "            a = np.fft.fftshift(np.fft.fft2(delta.squeeze().detach().cpu().numpy()))\n",
    "            total_7_fft += a\n",
    "            num_7 += 1\n",
    "        t.update()\n",
    "\n",
    "mean_3_fft = total_3_fft/num_3\n",
    "mean_7_fft = total_7_fft/num_7"
   ]
  },
  {
   "cell_type": "code",
   "execution_count": 32,
   "metadata": {},
   "outputs": [
    {
     "name": "stderr",
     "output_type": "stream",
     "text": [
      "/h/ama/.conda/envs/general/lib/python3.6/site-packages/ipykernel_launcher.py:12: RuntimeWarning: invalid value encountered in log\n",
      "  if sys.path[0] == '':\n",
      "/h/ama/.conda/envs/general/lib/python3.6/site-packages/ipykernel_launcher.py:14: MatplotlibDeprecationWarning: Adding an axes using the same arguments as a previous axes currently reuses the earlier instance.  In a future version, a new instance will always be created and returned.  Meanwhile, this warning can be suppressed, and the future behavior ensured, by passing a unique label to each axes instance.\n",
      "  \n",
      "/h/ama/.conda/envs/general/lib/python3.6/site-packages/ipykernel_launcher.py:15: MatplotlibDeprecationWarning: Adding an axes using the same arguments as a previous axes currently reuses the earlier instance.  In a future version, a new instance will always be created and returned.  Meanwhile, this warning can be suppressed, and the future behavior ensured, by passing a unique label to each axes instance.\n",
      "  from ipykernel import kernelapp as app\n",
      "/h/ama/.conda/envs/general/lib/python3.6/site-packages/ipykernel_launcher.py:17: MatplotlibDeprecationWarning: Adding an axes using the same arguments as a previous axes currently reuses the earlier instance.  In a future version, a new instance will always be created and returned.  Meanwhile, this warning can be suppressed, and the future behavior ensured, by passing a unique label to each axes instance.\n",
      "/h/ama/.conda/envs/general/lib/python3.6/site-packages/ipykernel_launcher.py:20: RuntimeWarning: invalid value encountered in log\n",
      "/h/ama/.conda/envs/general/lib/python3.6/site-packages/ipykernel_launcher.py:22: MatplotlibDeprecationWarning: Adding an axes using the same arguments as a previous axes currently reuses the earlier instance.  In a future version, a new instance will always be created and returned.  Meanwhile, this warning can be suppressed, and the future behavior ensured, by passing a unique label to each axes instance.\n",
      "/h/ama/.conda/envs/general/lib/python3.6/site-packages/ipykernel_launcher.py:23: MatplotlibDeprecationWarning: Adding an axes using the same arguments as a previous axes currently reuses the earlier instance.  In a future version, a new instance will always be created and returned.  Meanwhile, this warning can be suppressed, and the future behavior ensured, by passing a unique label to each axes instance.\n",
      "/h/ama/.conda/envs/general/lib/python3.6/site-packages/ipykernel_launcher.py:24: MatplotlibDeprecationWarning: Adding an axes using the same arguments as a previous axes currently reuses the earlier instance.  In a future version, a new instance will always be created and returned.  Meanwhile, this warning can be suppressed, and the future behavior ensured, by passing a unique label to each axes instance.\n"
     ]
    },
    {
     "data": {
      "text/plain": [
       "Text(0.5, 1.0, \"Log Mean Fourier Spectrum of 3's\")"
      ]
     },
     "execution_count": 32,
     "metadata": {},
     "output_type": "execute_result"
    },
    {
     "data": {
      "image/png": "[encoded data removed]",
      "text/plain": [
       "<Figure size 936x216 with 4 Axes>"
      ]
     },
     "metadata": {
      "needs_background": "light"
     },
     "output_type": "display_data"
    }
   ],
   "source": [
    "# blue: positive, red: negative\n",
    "top = plt.cm.get_cmap('Blues', 128)\n",
    "bottom = plt.cm.get_cmap('Oranges_r', 128)\n",
    "\n",
    "newcolors = np.vstack((top(np.linspace(1, 0, 128)),\n",
    "                       bottom(np.linspace(1, 0, 128))))\n",
    "newcmp = colors.ListedColormap(newcolors, name='OrangeBlue')\n",
    "\n",
    "\n",
    "fig_test = plt.figure(figsize = [13,3])\n",
    "gs = fig_test.add_gridspec(1,3)\n",
    "p1 = fig_test.add_subplot(gs[0,0]).imshow(np.log(np.real(mean_3_fft)), cmap = newcmp)\n",
    "fig_test.colorbar(p1)\n",
    "fig_test.add_subplot(gs[0,0]).set_yticklabels([])\n",
    "fig_test.add_subplot(gs[0,0]).set_xticklabels([])\n",
    "# fig_test.add_subplot(gs[0,0]).set_title('Log Mean Fourier Spectrum \\n of MNIST:' + r'Log $\\frac{1}{n}$ \\Sigma F{x_{i}')\n",
    "fig_test.add_subplot(gs[0,0]).set_title('Log Mean Fourier Spectrum \\n of MNIST (all digits)')\n",
    "\n",
    "\n",
    "p2 = fig_test.add_subplot(gs[0,1]).imshow(np.log(np.real(mean_7_fft)), cmap = newcmp)\n",
    "fig_test.colorbar(p2)\n",
    "fig_test.add_subplot(gs[0,1]).set_yticklabels([])\n",
    "fig_test.add_subplot(gs[0,1]).set_xticklabels([])\n",
    "fig_test.add_subplot(gs[0,1]).set_title('Log Mean Fourier Spectrum of 3\\'s')\n",
    "\n"
   ]
  },
  {
   "cell_type": "code",
   "execution_count": null,
   "metadata": {},
   "outputs": [],
   "source": []
  }
 ],
 "metadata": {
  "kernelspec": {
   "display_name": "Python (general)",
   "language": "python",
   "name": "general"
  },
  "language_info": {
   "codemirror_mode": {
    "name": "ipython",
    "version": 3
   },
   "file_extension": ".py",
   "mimetype": "text/x-python",
   "name": "python",
   "nbconvert_exporter": "python",
   "pygments_lexer": "ipython3",
   "version": "3.6.7"
  },
  "varInspector": {
   "cols": {
    "lenName": 16,
    "lenType": 16,
    "lenVar": 40
   },
   "kernels_config": {
    "python": {
     "delete_cmd_postfix": "",
     "delete_cmd_prefix": "del ",
     "library": "var_list.py",
     "varRefreshCmd": "print(var_dic_list())"
    },
    "r": {
     "delete_cmd_postfix": ") ",
     "delete_cmd_prefix": "rm(",
     "library": "var_list.r",
     "varRefreshCmd": "cat(var_dic_list()) "
    }
   },
   "position": {
    "height": "307px",
    "left": "1098px",
    "right": "20px",
    "top": "50px",
    "width": "594px"
   },
   "types_to_exclude": [
    "module",
    "function",
    "builtin_function_or_method",
    "instance",
    "_Feature"
   ],
   "window_display": true
  }
 },
 "nbformat": 4,
 "nbformat_minor": 4
}
