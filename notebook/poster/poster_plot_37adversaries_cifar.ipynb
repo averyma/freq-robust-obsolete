{
 "cells": [
  {
   "cell_type": "code",
   "execution_count": 4,
   "metadata": {},
   "outputs": [
    {
     "name": "stdout",
     "output_type": "stream",
     "text": [
      "/scratch/ssd001/home/ama/workspace/ama-at-vector/freq-robust\n"
     ]
    }
   ],
   "source": [
    "cd '../'"
   ]
  },
  {
   "cell_type": "code",
   "execution_count": 13,
   "metadata": {},
   "outputs": [],
   "source": [
    "import torch\n",
    "import torch.nn as nn\n",
    "import torch.optim as optim\n",
    "import numpy as np\n",
    "from tqdm import trange\n",
    "from torchvision import datasets, transforms\n",
    "from torch.utils.data import DataLoader\n",
    "from torch.autograd import grad\n",
    "from src.attacks import pgd_rand\n",
    "import matplotlib.pyplot as plt\n",
    "import matplotlib.colors as colors\n",
    "\n",
    "# hyper params initalization\n",
    "_batch_size = 128\n",
    "_device = torch.device(\"cuda:0\" if torch.cuda.is_available() else \"cpu\")\n",
    "_lr_rate = 0.01\n",
    "_momentum = 0.9\n",
    "_epoch = 10"
   ]
  },
  {
   "cell_type": "code",
   "execution_count": 17,
   "metadata": {},
   "outputs": [
    {
     "name": "stdout",
     "output_type": "stream",
     "text": [
      "Files already downloaded and verified\n",
      "Files already downloaded and verified\n"
     ]
    }
   ],
   "source": [
    "_batch_size = 1\n",
    "\n",
    "data_train = datasets.CIFAR10(\"./data\", train=True, download = True, transform=transforms.ToTensor())\n",
    "data_test = datasets.CIFAR10(\"./data\", train=False, download = True, transform=transforms.ToTensor())\n",
    "\n",
    "train_loader = torch.utils.data.DataLoader(data_train, batch_size = _batch_size)\n",
    "test_loader = torch.utils.data.DataLoader(data_test, batch_size = _batch_size)"
   ]
  },
  {
   "cell_type": "code",
   "execution_count": 18,
   "metadata": {},
   "outputs": [
    {
     "name": "stdout",
     "output_type": "stream",
     "text": [
      "loaded\n"
     ]
    }
   ],
   "source": [
    "from models import ResNet8\n",
    "\n",
    "\n",
    "path = \"../test-bench-bat/exp/2021-01-16/resnet8_standard/model/model.pt\"\n",
    "model = ResNet8()\n",
    "model.load_state_dict(torch.load(path, map_location=_device))\n",
    "model.to(_device)\n",
    "print(\"loaded\")"
   ]
  },
  {
   "cell_type": "code",
   "execution_count": 30,
   "metadata": {},
   "outputs": [
    {
     "name": "stderr",
     "output_type": "stream",
     "text": [
      "  2%|▏         | 1060/50000 [00:27<20:52, 39.08it/s]\n"
     ]
    }
   ],
   "source": [
    "total_3_fft = np.zeros((32,32), dtype = np.complex128)\n",
    "num_3 = 0\n",
    "total_7_fft = np.zeros((32,32), dtype = np.complex128)\n",
    "num_7 = 0\n",
    "\n",
    "with trange(len(train_loader)) as t:\n",
    "    for X,y in train_loader:\n",
    "        X, y = X.to(_device), y.to(_device)\n",
    "        if y.item() == 3:\n",
    "            delta = pgd_rand().generate(model,X,y)\n",
    "            a = np.fft.fftshift(np.fft.fft2(delta.squeeze().mean(dim = 0).detach().cpu().numpy()))\n",
    "            \n",
    "            total_3_fft += a\n",
    "            num_3 += 1\n",
    "        elif y.item() == 7:\n",
    "            delta = pgd_rand().generate(model,X,y)\n",
    "            a = np.fft.fftshift(np.fft.fft2(delta.squeeze().mean(dim = 0).detach().cpu().numpy()))\n",
    "            total_7_fft += a\n",
    "            num_7 += 1\n",
    "        t.update()\n",
    "        \n",
    "        if num_7 >100 and num_3 >100:\n",
    "            break\n",
    "\n",
    "mean_3_fft = total_3_fft/num_3\n",
    "mean_7_fft = total_7_fft/num_7"
   ]
  },
  {
   "cell_type": "code",
   "execution_count": 32,
   "metadata": {},
   "outputs": [
    {
     "name": "stderr",
     "output_type": "stream",
     "text": [
      "/h/ama/.conda/envs/general/lib/python3.6/site-packages/ipykernel_launcher.py:12: RuntimeWarning: invalid value encountered in log\n",
      "  if sys.path[0] == '':\n",
      "/h/ama/.conda/envs/general/lib/python3.6/site-packages/ipykernel_launcher.py:14: MatplotlibDeprecationWarning: Adding an axes using the same arguments as a previous axes currently reuses the earlier instance.  In a future version, a new instance will always be created and returned.  Meanwhile, this warning can be suppressed, and the future behavior ensured, by passing a unique label to each axes instance.\n",
      "  \n",
      "/h/ama/.conda/envs/general/lib/python3.6/site-packages/ipykernel_launcher.py:15: MatplotlibDeprecationWarning: Adding an axes using the same arguments as a previous axes currently reuses the earlier instance.  In a future version, a new instance will always be created and returned.  Meanwhile, this warning can be suppressed, and the future behavior ensured, by passing a unique label to each axes instance.\n",
      "  from ipykernel import kernelapp as app\n",
      "/h/ama/.conda/envs/general/lib/python3.6/site-packages/ipykernel_launcher.py:17: MatplotlibDeprecationWarning: Adding an axes using the same arguments as a previous axes currently reuses the earlier instance.  In a future version, a new instance will always be created and returned.  Meanwhile, this warning can be suppressed, and the future behavior ensured, by passing a unique label to each axes instance.\n",
      "/h/ama/.conda/envs/general/lib/python3.6/site-packages/ipykernel_launcher.py:20: RuntimeWarning: invalid value encountered in log\n",
      "/h/ama/.conda/envs/general/lib/python3.6/site-packages/ipykernel_launcher.py:22: MatplotlibDeprecationWarning: Adding an axes using the same arguments as a previous axes currently reuses the earlier instance.  In a future version, a new instance will always be created and returned.  Meanwhile, this warning can be suppressed, and the future behavior ensured, by passing a unique label to each axes instance.\n",
      "/h/ama/.conda/envs/general/lib/python3.6/site-packages/ipykernel_launcher.py:23: MatplotlibDeprecationWarning: Adding an axes using the same arguments as a previous axes currently reuses the earlier instance.  In a future version, a new instance will always be created and returned.  Meanwhile, this warning can be suppressed, and the future behavior ensured, by passing a unique label to each axes instance.\n",
      "/h/ama/.conda/envs/general/lib/python3.6/site-packages/ipykernel_launcher.py:24: MatplotlibDeprecationWarning: Adding an axes using the same arguments as a previous axes currently reuses the earlier instance.  In a future version, a new instance will always be created and returned.  Meanwhile, this warning can be suppressed, and the future behavior ensured, by passing a unique label to each axes instance.\n"
     ]
    },
    {
     "data": {
      "text/plain": [
       "Text(0.5, 1.0, \"Log Mean Fourier Spectrum of 3's\")"
      ]
     },
     "execution_count": 32,
     "metadata": {},
     "output_type": "execute_result"
    },
    {
     "data": {
      "image/png": "[encoded data removed]",
      "text/plain": [
       "<Figure size 936x216 with 4 Axes>"
      ]
     },
     "metadata": {
      "needs_background": "light"
     },
     "output_type": "display_data"
    }
   ],
   "source": [
    "# blue: positive, red: negative\n",
    "top = plt.cm.get_cmap('Blues', 128)\n",
    "bottom = plt.cm.get_cmap('Oranges_r', 128)\n",
    "\n",
    "newcolors = np.vstack((top(np.linspace(1, 0, 128)),\n",
    "                       bottom(np.linspace(1, 0, 128))))\n",
    "newcmp = colors.ListedColormap(newcolors, name='OrangeBlue')\n",
    "\n",
    "\n",
    "fig_test = plt.figure(figsize = [13,3])\n",
    "gs = fig_test.add_gridspec(1,3)\n",
    "p1 = fig_test.add_subplot(gs[0,0]).imshow(np.log(np.real(mean_3_fft)), cmap = newcmp)\n",
    "fig_test.colorbar(p1)\n",
    "fig_test.add_subplot(gs[0,0]).set_yticklabels([])\n",
    "fig_test.add_subplot(gs[0,0]).set_xticklabels([])\n",
    "# fig_test.add_subplot(gs[0,0]).set_title('Log Mean Fourier Spectrum \\n of MNIST:' + r'Log $\\frac{1}{n}$ \\Sigma F{x_{i}')\n",
    "fig_test.add_subplot(gs[0,0]).set_title('Log Mean Fourier Spectrum \\n of MNIST (all digits)')\n",
    "\n",
    "\n",
    "p2 = fig_test.add_subplot(gs[0,1]).imshow(np.log(np.real(mean_7_fft)), cmap = newcmp)\n",
    "fig_test.colorbar(p2)\n",
    "fig_test.add_subplot(gs[0,1]).set_yticklabels([])\n",
    "fig_test.add_subplot(gs[0,1]).set_xticklabels([])\n",
    "fig_test.add_subplot(gs[0,1]).set_title('Log Mean Fourier Spectrum of 3\\'s')\n",
    "\n"
   ]
  },
  {
   "cell_type": "code",
   "execution_count": null,
   "metadata": {},
   "outputs": [],
   "source": []
  }
 ],
 "metadata": {
  "kernelspec": {
   "display_name": "Python (general)",
   "language": "python",
   "name": "general"
  },
  "language_info": {
   "codemirror_mode": {
    "name": "ipython",
    "version": 3
   },
   "file_extension": ".py",
   "mimetype": "text/x-python",
   "name": "python",
   "nbconvert_exporter": "python",
   "pygments_lexer": "ipython3",
   "version": "3.6.7"
  },
  "varInspector": {
   "cols": {
    "lenName": 16,
    "lenType": 16,
    "lenVar": 40
   },
   "kernels_config": {
    "python": {
     "delete_cmd_postfix": "",
     "delete_cmd_prefix": "del ",
     "library": "var_list.py",
     "varRefreshCmd": "print(var_dic_list())"
    },
    "r": {
     "delete_cmd_postfix": ") ",
     "delete_cmd_prefix": "rm(",
     "library": "var_list.r",
     "varRefreshCmd": "cat(var_dic_list()) "
    }
   },
   "position": {
    "height": "307px",
    "left": "1098px",
    "right": "20px",
    "top": "50px",
    "width": "594px"
   },
   "types_to_exclude": [
    "module",
    "function",
    "builtin_function_or_method",
    "instance",
    "_Feature"
   ],
   "window_display": true
  }
 },
 "nbformat": 4,
 "nbformat_minor": 4
}
