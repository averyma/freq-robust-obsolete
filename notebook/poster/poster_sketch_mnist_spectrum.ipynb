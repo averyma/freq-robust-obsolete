{
 "cells": [
  {
   "cell_type": "code",
   "execution_count": 2,
   "metadata": {},
   "outputs": [
    {
     "name": "stdout",
     "output_type": "stream",
     "text": [
      "1.4.0\n",
      "cuda:0\n"
     ]
    }
   ],
   "source": [
    "import torch\n",
    "import numpy as np\n",
    "import torch.nn as nn\n",
    "import torch.nn.functional as F\n",
    "import torch.optim as optim\n",
    "from torchvision import datasets, transforms\n",
    "from tqdm import trange\n",
    "# import ipdb\n",
    "import matplotlib.pyplot as plt\n",
    "import matplotlib.colors as colors\n",
    "\n",
    "\n",
    "print(torch.__version__)\n",
    "device = torch.device(\"cuda:0\" if torch.cuda.is_available() else \"cpu\")\n",
    "print(device)"
   ]
  },
  {
   "cell_type": "code",
   "execution_count": 3,
   "metadata": {},
   "outputs": [],
   "source": [
    "_batch_size = 1\n",
    "\n",
    "data_train = datasets.MNIST(\"./data\", train=True, download = True, transform=transforms.ToTensor())\n",
    "data_test = datasets.MNIST(\"./data\", train=False, download = True, transform=transforms.ToTensor())\n",
    "\n",
    "# idx_3, idx_7 = data_train.targets == 3, data_train.targets == 7\n",
    "# idx_train = idx_3 | idx_7\n",
    "\n",
    "# idx_3, idx_7 = data_test.targets == 3, data_test.targets == 7\n",
    "# idx_test = idx_3 | idx_7\n",
    "\n",
    "# data_train.targets = data_train.targets[idx_train]\n",
    "# data_train.data = data_train.data[idx_train]\n",
    "# data_test.targets = data_test.targets[idx_test]\n",
    "# data_test.data = data_test.data[idx_test]\n",
    "\n",
    "# # label 0: 3, label 1: 7\n",
    "# data_train.targets = ((data_train.targets - 3)/4).float()\n",
    "# data_test.targets = ((data_test.targets - 3)/4).float()\n",
    "\n",
    "\n",
    "train_loader = torch.utils.data.DataLoader(data_train, batch_size = _batch_size)\n",
    "test_loader = torch.utils.data.DataLoader(data_test, batch_size = _batch_size)"
   ]
  },
  {
   "cell_type": "code",
   "execution_count": 4,
   "metadata": {},
   "outputs": [
    {
     "name": "stderr",
     "output_type": "stream",
     "text": [
      "100%|██████████| 60000/60000 [00:30<00:00, 1975.00it/s]\n"
     ]
    }
   ],
   "source": [
    "total_x_fft = np.zeros((28,28), dtype = np.complex128)\n",
    "total_3_fft = np.zeros((28,28), dtype = np.complex128)\n",
    "num_3 = 0\n",
    "total_7_fft = np.zeros((28,28), dtype = np.complex128)\n",
    "num_7 = 0\n",
    "\n",
    "with trange(len(train_loader)) as t:\n",
    "    for x,y in train_loader:\n",
    "        a = np.fft.fftshift(np.fft.fft2(x.squeeze().detach().cpu().numpy()))\n",
    "        total_x_fft += a\n",
    "        \n",
    "        if y.item() == 3:\n",
    "            total_3_fft += a\n",
    "            num_3 += 1\n",
    "        elif y.item() == 7:\n",
    "            total_7_fft += a\n",
    "            num_7 += 1\n",
    "        t.update()\n",
    "\n",
    "mean_x_fft = total_x_fft/len(train_loader)\n",
    "mean_3_fft = total_3_fft/num_3\n",
    "mean_7_fft = total_7_fft/num_7"
   ]
  },
  {
   "cell_type": "code",
   "execution_count": 10,
   "metadata": {},
   "outputs": [
    {
     "name": "stderr",
     "output_type": "stream",
     "text": [
      "/h/ama/.conda/envs/general/lib/python3.6/site-packages/ipykernel_launcher.py:12: RuntimeWarning: invalid value encountered in log\n",
      "  if sys.path[0] == '':\n",
      "/h/ama/.conda/envs/general/lib/python3.6/site-packages/ipykernel_launcher.py:14: MatplotlibDeprecationWarning: Adding an axes using the same arguments as a previous axes currently reuses the earlier instance.  In a future version, a new instance will always be created and returned.  Meanwhile, this warning can be suppressed, and the future behavior ensured, by passing a unique label to each axes instance.\n",
      "  \n",
      "/h/ama/.conda/envs/general/lib/python3.6/site-packages/ipykernel_launcher.py:15: MatplotlibDeprecationWarning: Adding an axes using the same arguments as a previous axes currently reuses the earlier instance.  In a future version, a new instance will always be created and returned.  Meanwhile, this warning can be suppressed, and the future behavior ensured, by passing a unique label to each axes instance.\n",
      "  from ipykernel import kernelapp as app\n",
      "/h/ama/.conda/envs/general/lib/python3.6/site-packages/ipykernel_launcher.py:17: MatplotlibDeprecationWarning: Adding an axes using the same arguments as a previous axes currently reuses the earlier instance.  In a future version, a new instance will always be created and returned.  Meanwhile, this warning can be suppressed, and the future behavior ensured, by passing a unique label to each axes instance.\n",
      "/h/ama/.conda/envs/general/lib/python3.6/site-packages/ipykernel_launcher.py:20: RuntimeWarning: invalid value encountered in log\n",
      "/h/ama/.conda/envs/general/lib/python3.6/site-packages/ipykernel_launcher.py:22: MatplotlibDeprecationWarning: Adding an axes using the same arguments as a previous axes currently reuses the earlier instance.  In a future version, a new instance will always be created and returned.  Meanwhile, this warning can be suppressed, and the future behavior ensured, by passing a unique label to each axes instance.\n",
      "/h/ama/.conda/envs/general/lib/python3.6/site-packages/ipykernel_launcher.py:23: MatplotlibDeprecationWarning: Adding an axes using the same arguments as a previous axes currently reuses the earlier instance.  In a future version, a new instance will always be created and returned.  Meanwhile, this warning can be suppressed, and the future behavior ensured, by passing a unique label to each axes instance.\n",
      "/h/ama/.conda/envs/general/lib/python3.6/site-packages/ipykernel_launcher.py:24: MatplotlibDeprecationWarning: Adding an axes using the same arguments as a previous axes currently reuses the earlier instance.  In a future version, a new instance will always be created and returned.  Meanwhile, this warning can be suppressed, and the future behavior ensured, by passing a unique label to each axes instance.\n",
      "/h/ama/.conda/envs/general/lib/python3.6/site-packages/ipykernel_launcher.py:27: RuntimeWarning: invalid value encountered in log\n",
      "/h/ama/.conda/envs/general/lib/python3.6/site-packages/ipykernel_launcher.py:29: MatplotlibDeprecationWarning: Adding an axes using the same arguments as a previous axes currently reuses the earlier instance.  In a future version, a new instance will always be created and returned.  Meanwhile, this warning can be suppressed, and the future behavior ensured, by passing a unique label to each axes instance.\n",
      "/h/ama/.conda/envs/general/lib/python3.6/site-packages/ipykernel_launcher.py:30: MatplotlibDeprecationWarning: Adding an axes using the same arguments as a previous axes currently reuses the earlier instance.  In a future version, a new instance will always be created and returned.  Meanwhile, this warning can be suppressed, and the future behavior ensured, by passing a unique label to each axes instance.\n",
      "/h/ama/.conda/envs/general/lib/python3.6/site-packages/ipykernel_launcher.py:31: MatplotlibDeprecationWarning: Adding an axes using the same arguments as a previous axes currently reuses the earlier instance.  In a future version, a new instance will always be created and returned.  Meanwhile, this warning can be suppressed, and the future behavior ensured, by passing a unique label to each axes instance.\n"
     ]
    },
    {
     "data": {
      "text/plain": [
       "Text(0.5, 1.0, \"Log Mean Fourier Spectrum \\n of MNIST (all 7's)\")"
      ]
     },
     "execution_count": 10,
     "metadata": {},
     "output_type": "execute_result"
    },
    {
     "data": {
      "image/png": "[encoded data removed]",
      "text/plain": [
       "<Figure size 936x216 with 6 Axes>"
      ]
     },
     "metadata": {
      "needs_background": "light"
     },
     "output_type": "display_data"
    }
   ],
   "source": [
    "# blue: positive, red: negative\n",
    "top = plt.cm.get_cmap('Blues', 128)\n",
    "bottom = plt.cm.get_cmap('Oranges_r', 128)\n",
    "\n",
    "newcolors = np.vstack((top(np.linspace(1, 0, 128)),\n",
    "                       bottom(np.linspace(1, 0, 128))))\n",
    "newcmp = colors.ListedColormap(newcolors, name='OrangeBlue')\n",
    "\n",
    "\n",
    "fig_test = plt.figure(figsize = [13,3])\n",
    "gs = fig_test.add_gridspec(1,3)\n",
    "p1 = fig_test.add_subplot(gs[0,0]).imshow(np.log(np.real(mean_x_fft)), cmap = newcmp)\n",
    "fig_test.colorbar(p1)\n",
    "fig_test.add_subplot(gs[0,0]).set_yticklabels([])\n",
    "fig_test.add_subplot(gs[0,0]).set_xticklabels([])\n",
    "# fig_test.add_subplot(gs[0,0]).set_title('Log Mean Fourier Spectrum \\n of MNIST:' + r'Log $\\frac{1}{n}$ \\Sigma F{x_{i}')\n",
    "fig_test.add_subplot(gs[0,0]).set_title('Log Mean Fourier Spectrum \\n of MNIST (all digits)', fontsize=15)\n",
    "\n",
    "\n",
    "p2 = fig_test.add_subplot(gs[0,1]).imshow(np.log(np.real(mean_3_fft)), cmap = newcmp)\n",
    "fig_test.colorbar(p2)\n",
    "fig_test.add_subplot(gs[0,1]).set_yticklabels([])\n",
    "fig_test.add_subplot(gs[0,1]).set_xticklabels([])\n",
    "fig_test.add_subplot(gs[0,1]).set_title('Log Mean Fourier Spectrum \\n of MNIST (all 3\\'s)', fontsize=15)\n",
    "\n",
    "\n",
    "p3 = fig_test.add_subplot(gs[0,2]).imshow(np.log(np.real(mean_7_fft)), cmap = newcmp)\n",
    "fig_test.colorbar(p3)\n",
    "fig_test.add_subplot(gs[0,2]).set_yticklabels([])\n",
    "fig_test.add_subplot(gs[0,2]).set_xticklabels([])\n",
    "fig_test.add_subplot(gs[0,2]).set_title('Log Mean Fourier Spectrum \\n of MNIST (all 7\\'s)', fontsize=15)\n"
   ]
  },
  {
   "cell_type": "code",
   "execution_count": null,
   "metadata": {},
   "outputs": [],
   "source": []
  }
 ],
 "metadata": {
  "kernelspec": {
   "display_name": "Python (general)",
   "language": "python",
   "name": "general"
  },
  "language_info": {
   "codemirror_mode": {
    "name": "ipython",
    "version": 3
   },
   "file_extension": ".py",
   "mimetype": "text/x-python",
   "name": "python",
   "nbconvert_exporter": "python",
   "pygments_lexer": "ipython3",
   "version": "3.6.7"
  }
 },
 "nbformat": 4,
 "nbformat_minor": 4
}
