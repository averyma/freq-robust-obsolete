{
 "cells": [
  {
   "cell_type": "code",
   "execution_count": 1,
   "metadata": {},
   "outputs": [
    {
     "name": "stdout",
     "output_type": "stream",
     "text": [
      "1.4.0\n",
      "cuda:0\n"
     ]
    }
   ],
   "source": [
    "import torch\n",
    "import numpy as np\n",
    "import torch.nn as nn\n",
    "import torch.nn.functional as F\n",
    "import torch.optim as optim\n",
    "from torch.utils.data import Dataset, DataLoader\n",
    "from torchvision import datasets, transforms\n",
    "from tqdm import trange\n",
    "# import ipdb\n",
    "import matplotlib.pyplot as plt\n",
    "import matplotlib.colors as colors\n",
    "\n",
    "\n",
    "print(torch.__version__)\n",
    "device = torch.device(\"cuda:0\" if torch.cuda.is_available() else \"cpu\")\n",
    "print(device)"
   ]
  },
  {
   "cell_type": "code",
   "execution_count": 2,
   "metadata": {},
   "outputs": [
    {
     "name": "stdout",
     "output_type": "stream",
     "text": [
      "Files already downloaded and verified\n",
      "Files already downloaded and verified\n"
     ]
    }
   ],
   "source": [
    "_batch_size = 1\n",
    "\n",
    "data_train = datasets.CIFAR10(\"./data\", train=True, download = True, transform=transforms.ToTensor())\n",
    "data_test = datasets.CIFAR10(\"./data\", train=False, download = True, transform=transforms.ToTensor())\n",
    "train_loader = torch.utils.data.DataLoader(data_train, batch_size = _batch_size)\n",
    "test_loader = torch.utils.data.DataLoader(data_test, batch_size = _batch_size)"
   ]
  },
  {
   "cell_type": "code",
   "execution_count": 10,
   "metadata": {},
   "outputs": [
    {
     "name": "stderr",
     "output_type": "stream",
     "text": [
      "100%|██████████| 50000/50000 [00:31<00:00, 1566.17it/s]\n"
     ]
    }
   ],
   "source": [
    "total_x_fft = np.zeros((32,32), dtype = np.complex128)\n",
    "total_3_fft = np.zeros((32,32), dtype = np.complex128)\n",
    "num_3 = 0\n",
    "total_7_fft = np.zeros((32,32), dtype = np.complex128)\n",
    "num_7 = 0\n",
    "\n",
    "with trange(len(train_loader)) as t:\n",
    "    for x,y in train_loader:\n",
    "        a = np.fft.fftshift(np.fft.fft2(x.squeeze().mean(dim = 0).detach().cpu().numpy()))\n",
    "        total_x_fft += a\n",
    "        \n",
    "        if y.item() == 3:\n",
    "            total_3_fft += a\n",
    "            num_3 += 1\n",
    "#             plt.imshow(x.squeeze().mean(dim = 0).detach().cpu().numpy())\n",
    "#             break\n",
    "        elif y.item() == 7:\n",
    "            total_7_fft += a\n",
    "            num_7 += 1\n",
    "\n",
    "        t.update()\n",
    "\n",
    "mean_x_fft = total_x_fft/len(train_loader)\n",
    "mean_3_fft = total_3_fft/num_3\n",
    "mean_7_fft = total_7_fft/num_7"
   ]
  },
  {
   "cell_type": "code",
   "execution_count": 11,
   "metadata": {},
   "outputs": [
    {
     "name": "stderr",
     "output_type": "stream",
     "text": [
      "/h/ama/.conda/envs/general/lib/python3.6/site-packages/ipykernel_launcher.py:12: RuntimeWarning: invalid value encountered in log\n",
      "  if sys.path[0] == '':\n",
      "/h/ama/.conda/envs/general/lib/python3.6/site-packages/ipykernel_launcher.py:14: MatplotlibDeprecationWarning: Adding an axes using the same arguments as a previous axes currently reuses the earlier instance.  In a future version, a new instance will always be created and returned.  Meanwhile, this warning can be suppressed, and the future behavior ensured, by passing a unique label to each axes instance.\n",
      "  \n",
      "/h/ama/.conda/envs/general/lib/python3.6/site-packages/ipykernel_launcher.py:15: MatplotlibDeprecationWarning: Adding an axes using the same arguments as a previous axes currently reuses the earlier instance.  In a future version, a new instance will always be created and returned.  Meanwhile, this warning can be suppressed, and the future behavior ensured, by passing a unique label to each axes instance.\n",
      "  from ipykernel import kernelapp as app\n",
      "/h/ama/.conda/envs/general/lib/python3.6/site-packages/ipykernel_launcher.py:17: MatplotlibDeprecationWarning: Adding an axes using the same arguments as a previous axes currently reuses the earlier instance.  In a future version, a new instance will always be created and returned.  Meanwhile, this warning can be suppressed, and the future behavior ensured, by passing a unique label to each axes instance.\n",
      "/h/ama/.conda/envs/general/lib/python3.6/site-packages/ipykernel_launcher.py:20: RuntimeWarning: invalid value encountered in log\n",
      "/h/ama/.conda/envs/general/lib/python3.6/site-packages/ipykernel_launcher.py:22: MatplotlibDeprecationWarning: Adding an axes using the same arguments as a previous axes currently reuses the earlier instance.  In a future version, a new instance will always be created and returned.  Meanwhile, this warning can be suppressed, and the future behavior ensured, by passing a unique label to each axes instance.\n",
      "/h/ama/.conda/envs/general/lib/python3.6/site-packages/ipykernel_launcher.py:23: MatplotlibDeprecationWarning: Adding an axes using the same arguments as a previous axes currently reuses the earlier instance.  In a future version, a new instance will always be created and returned.  Meanwhile, this warning can be suppressed, and the future behavior ensured, by passing a unique label to each axes instance.\n",
      "/h/ama/.conda/envs/general/lib/python3.6/site-packages/ipykernel_launcher.py:24: MatplotlibDeprecationWarning: Adding an axes using the same arguments as a previous axes currently reuses the earlier instance.  In a future version, a new instance will always be created and returned.  Meanwhile, this warning can be suppressed, and the future behavior ensured, by passing a unique label to each axes instance.\n",
      "/h/ama/.conda/envs/general/lib/python3.6/site-packages/ipykernel_launcher.py:27: RuntimeWarning: invalid value encountered in log\n",
      "/h/ama/.conda/envs/general/lib/python3.6/site-packages/ipykernel_launcher.py:29: MatplotlibDeprecationWarning: Adding an axes using the same arguments as a previous axes currently reuses the earlier instance.  In a future version, a new instance will always be created and returned.  Meanwhile, this warning can be suppressed, and the future behavior ensured, by passing a unique label to each axes instance.\n",
      "/h/ama/.conda/envs/general/lib/python3.6/site-packages/ipykernel_launcher.py:30: MatplotlibDeprecationWarning: Adding an axes using the same arguments as a previous axes currently reuses the earlier instance.  In a future version, a new instance will always be created and returned.  Meanwhile, this warning can be suppressed, and the future behavior ensured, by passing a unique label to each axes instance.\n",
      "/h/ama/.conda/envs/general/lib/python3.6/site-packages/ipykernel_launcher.py:31: MatplotlibDeprecationWarning: Adding an axes using the same arguments as a previous axes currently reuses the earlier instance.  In a future version, a new instance will always be created and returned.  Meanwhile, this warning can be suppressed, and the future behavior ensured, by passing a unique label to each axes instance.\n"
     ]
    },
    {
     "data": {
      "text/plain": [
       "Text(0.5, 1.0, 'Log Mean Fourier Spectrum \\n of CIFAR10 (all Horses)')"
      ]
     },
     "execution_count": 11,
     "metadata": {},
     "output_type": "execute_result"
    },
    {
     "data": {
      "image/png": "[encoded data removed]",
      "text/plain": [
       "<Figure size 936x216 with 6 Axes>"
      ]
     },
     "metadata": {
      "needs_background": "light"
     },
     "output_type": "display_data"
    }
   ],
   "source": [
    "# blue: positive, red: negative\n",
    "top = plt.cm.get_cmap('Blues', 128)\n",
    "bottom = plt.cm.get_cmap('Oranges_r', 128)\n",
    "\n",
    "newcolors = np.vstack((top(np.linspace(1, 0, 128)),\n",
    "                       bottom(np.linspace(1, 0, 128))))\n",
    "newcmp = colors.ListedColormap(newcolors, name='OrangeBlue')\n",
    "\n",
    "\n",
    "fig_test = plt.figure(figsize = [13,3])\n",
    "gs = fig_test.add_gridspec(1,3)\n",
    "p1 = fig_test.add_subplot(gs[0,0]).imshow(np.log(np.real(mean_x_fft)), cmap = newcmp)\n",
    "fig_test.colorbar(p1)\n",
    "fig_test.add_subplot(gs[0,0]).set_yticklabels([])\n",
    "fig_test.add_subplot(gs[0,0]).set_xticklabels([])\n",
    "# fig_test.add_subplot(gs[0,0]).set_title('Log Mean Fourier Spectrum \\n of MNIST:' + r'Log $\\frac{1}{n}$ \\Sigma F{x_{i}')\n",
    "fig_test.add_subplot(gs[0,0]).set_title('Log Mean Fourier Spectrum \\n of CIFAR10 (all images)', fontsize=15)\n",
    "\n",
    "\n",
    "p2 = fig_test.add_subplot(gs[0,1]).imshow(np.log(np.real(mean_3_fft)), cmap = newcmp)\n",
    "fig_test.colorbar(p2)\n",
    "fig_test.add_subplot(gs[0,1]).set_yticklabels([])\n",
    "fig_test.add_subplot(gs[0,1]).set_xticklabels([])\n",
    "fig_test.add_subplot(gs[0,1]).set_title('Log Mean Fourier Spectrum \\n of CIFAR10 (all Cats)', fontsize=15)\n",
    "\n",
    "\n",
    "p3 = fig_test.add_subplot(gs[0,2]).imshow(np.log(np.real(mean_7_fft)), cmap = newcmp)\n",
    "fig_test.colorbar(p3)\n",
    "fig_test.add_subplot(gs[0,2]).set_yticklabels([])\n",
    "fig_test.add_subplot(gs[0,2]).set_xticklabels([])\n",
    "fig_test.add_subplot(gs[0,2]).set_title('Log Mean Fourier Spectrum \\n of CIFAR10 (all Horses)', fontsize=15)\n",
    "\n",
    "\n",
    "\n",
    "\n",
    "# fig_test.add_subplot(gs[0,0]).plot(weight_adv.squeeze().sort()[0].detach().cpu().numpy(),color = 'C1',label = 'adv')\n",
    "# fig_test.add_subplot(gs[0,0]).set_title('Comparison of the weight (sorted)\\nassigned to the inputs by each model')\n",
    "# fig_test.add_subplot(gs[0,0]).legend()\n",
    "# fig_test.add_subplot(gs[0,0]).set_xlabel('Feature')\n",
    "# fig_test.add_subplot(gs[0,0]).set_ylabel('Weight')\n",
    "\n",
    "\n",
    "\n",
    "\n",
    "# # p2 = fig_test.add_subplot(gs[1,2]).imshow(weight_adv.view(28,28).cpu().detach().numpy(),cmap = newcmp, vmin = -1, vmax = 1)\n",
    "# p2 = fig_test.add_subplot(gs[0,1]).imshow(weight_adv.view(28,28).cpu().detach().numpy(),cmap = newcmp)\n",
    "# fig_test.colorbar(p2)\n",
    "# fig_test.add_subplot(gs[0,1]).set_yticklabels([])\n",
    "# fig_test.add_subplot(gs[0,1]).set_xticklabels([])\n",
    "\n",
    "# # p4 = fig_test.add_subplot(gs[1,3]).imshow(weight_H.view(28,28).cpu().detach().numpy(),cmap = newcmp, vmin = -1, vmax = 1)\n",
    "# p4 = fig_test.add_subplot(gs[0,2]).imshow(weight_H.view(28,28).cpu().detach().numpy(),cmap = newcmp)\n",
    "# fig_test.colorbar(p4)\n",
    "# fig_test.add_subplot(gs[0,2]).set_yticklabels([])\n",
    "# fig_test.add_subplot(gs[0,2]).set_xticklabels([])\n",
    "\n",
    "# fig_test.add_subplot(gs[0,1]).set_title('model_adv weight')\n",
    "# fig_test.add_subplot(gs[0,2]).set_title('model_H weight')\n",
    "# fig_test.add_subplot(gs[0,1]).set_xlabel('||w||_1 = {0:.2f}'.format(weight_adv.abs().sum().item()))\n",
    "# fig_test.add_subplot(gs[0,2]).set_xlabel('||w||_1 = {0:.2f}'.format(weight_H.abs().sum().item()))\n",
    "\n"
   ]
  },
  {
   "cell_type": "code",
   "execution_count": null,
   "metadata": {},
   "outputs": [],
   "source": []
  }
 ],
 "metadata": {
  "kernelspec": {
   "display_name": "Python (general)",
   "language": "python",
   "name": "general"
  },
  "language_info": {
   "codemirror_mode": {
    "name": "ipython",
    "version": 3
   },
   "file_extension": ".py",
   "mimetype": "text/x-python",
   "name": "python",
   "nbconvert_exporter": "python",
   "pygments_lexer": "ipython3",
   "version": "3.6.7"
  }
 },
 "nbformat": 4,
 "nbformat_minor": 4
}
