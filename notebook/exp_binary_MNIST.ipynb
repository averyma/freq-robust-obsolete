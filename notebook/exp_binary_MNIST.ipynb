{
 "cells": [
  {
   "cell_type": "code",
   "execution_count": 1,
   "metadata": {},
   "outputs": [],
   "source": [
    "import torch\n",
    "import torch.nn as nn\n",
    "import torch.optim as optim\n",
    "import numpy as np\n",
    "\n",
    "\n",
    "import matplotlib.pyplot as plt\n",
    "import matplotlib.colors as colors\n",
    "import cv2\n",
    "\n",
    "from binary_exp import *\n",
    "\n",
    "# hyper params initalization\n",
    "_batch_size = 128\n",
    "_device = torch.device(\"cuda:0\" if torch.cuda.is_available() else \"cpu\")\n",
    "_lr_rate = 0.01\n",
    "_epoch = 2\n",
    "\n",
    "train_loader, test_loader = load_binaryMNIST(_batch_size)"
   ]
  },
  {
   "cell_type": "code",
   "execution_count": 2,
   "metadata": {
    "scrolled": true
   },
   "outputs": [
    {
     "name": "stderr",
     "output_type": "stream",
     "text": [
      "/scratch/ssd001/home/ama/workspace/ama-at-vector/freq-robust/notebook/binary_exp.py:152: UserWarning: nn.init.xavier_uniform is now deprecated in favor of nn.init.xavier_uniform_.\n",
      "  torch.nn.init.xavier_uniform(self.conv1.weight)\n",
      "100%|██████████| 97/97 [00:01<00:00, 64.22it/s, batch_acc=97.22%, loss=0.247, total_acc=91.32%]\n",
      " 13%|█▎        | 13/97 [00:00<00:01, 71.80it/s, batch_acc=96.09%, loss=0.224, total_acc=14.00%]"
     ]
    },
    {
     "name": "stdout",
     "output_type": "stream",
     "text": [
      "total accuracy: 91.31978057437883\n"
     ]
    },
    {
     "name": "stderr",
     "output_type": "stream",
     "text": [
      "100%|██████████| 97/97 [00:01<00:00, 77.91it/s, batch_acc=95.37%, loss=0.184, total_acc=96.82%] \n",
      "100%|██████████| 16/16 [00:00<00:00, 80.50it/s, batch_acc=97.46%, loss=0.159, total_acc=96.12%]\n"
     ]
    },
    {
     "name": "stdout",
     "output_type": "stream",
     "text": [
      "total accuracy: 96.8215553404324\n",
      "test\n",
      "total accuracy: 96.12365063788027\n",
      "adv\n"
     ]
    },
    {
     "name": "stderr",
     "output_type": "stream",
     "text": [
      "100%|██████████| 16/16 [00:00<00:00, 23.06it/s, batch_acc=0.00%, loss=3.54, total_acc=0.00%]"
     ]
    },
    {
     "name": "stdout",
     "output_type": "stream",
     "text": [
      "total accuracy: 0.0\n"
     ]
    },
    {
     "name": "stderr",
     "output_type": "stream",
     "text": [
      "\n"
     ]
    }
   ],
   "source": [
    "model = Net().to(_device)\n",
    "# mask_weight(model, 13, _device)\n",
    "\n",
    "opt = optim.SGD(model.parameters(), lr=_lr_rate)\n",
    "# opt = optim.Adam(model.parameters(), lr=_lr_rate)\n",
    "\n",
    "for epoch in range(1, _epoch + 1):\n",
    "    one_epoch(model, _device, train_loader, opt, train = True, adv = False)\n",
    "    \n",
    "print(\"test\")\n",
    "one_epoch(model, _device, test_loader, opt, train = False)\n",
    "\n",
    "print(\"adv\")\n",
    "one_epoch(model, _device, test_loader, opt, train = False, adv = True)"
   ]
  },
  {
   "cell_type": "code",
   "execution_count": 3,
   "metadata": {},
   "outputs": [],
   "source": []
  },
  {
   "cell_type": "code",
   "execution_count": null,
   "metadata": {},
   "outputs": [],
   "source": []
  }
 ],
 "metadata": {
  "kernelspec": {
   "display_name": "Python (general)",
   "language": "python",
   "name": "general"
  },
  "language_info": {
   "codemirror_mode": {
    "name": "ipython",
    "version": 3
   },
   "file_extension": ".py",
   "mimetype": "text/x-python",
   "name": "python",
   "nbconvert_exporter": "python",
   "pygments_lexer": "ipython3",
   "version": "3.6.7"
  },
  "varInspector": {
   "cols": {
    "lenName": 16,
    "lenType": 16,
    "lenVar": 40
   },
   "kernels_config": {
    "python": {
     "delete_cmd_postfix": "",
     "delete_cmd_prefix": "del ",
     "library": "var_list.py",
     "varRefreshCmd": "print(var_dic_list())"
    },
    "r": {
     "delete_cmd_postfix": ") ",
     "delete_cmd_prefix": "rm(",
     "library": "var_list.r",
     "varRefreshCmd": "cat(var_dic_list()) "
    }
   },
   "position": {
    "height": "307px",
    "left": "1098px",
    "right": "20px",
    "top": "50px",
    "width": "594px"
   },
   "types_to_exclude": [
    "module",
    "function",
    "builtin_function_or_method",
    "instance",
    "_Feature"
   ],
   "window_display": true
  }
 },
 "nbformat": 4,
 "nbformat_minor": 4
}
