{
 "cells": [
  {
   "cell_type": "code",
   "execution_count": 1,
   "metadata": {},
   "outputs": [
    {
     "name": "stdout",
     "output_type": "stream",
     "text": [
      "/scratch/ssd001/home/ama/workspace/ama-at-vector/freq-robust\n"
     ]
    }
   ],
   "source": [
    "cd '../'"
   ]
  },
  {
   "cell_type": "code",
   "execution_count": 2,
   "metadata": {},
   "outputs": [],
   "source": [
    "%load_ext autoreload\n",
    "%autoreload 2"
   ]
  },
  {
   "cell_type": "code",
   "execution_count": 3,
   "metadata": {},
   "outputs": [],
   "source": [
    "import torch\n",
    "import torch.nn as nn\n",
    "import torch.optim as optim\n",
    "import numpy as np\n",
    "from tqdm import trange\n",
    "from torchvision import datasets, transforms\n",
    "from torch.utils.data import DataLoader\n",
    "from torch.autograd import grad\n",
    "\n",
    "from src.attacks import pgd_rand\n",
    "from src.utils_general import seed_everything\n",
    "from src.context import ctx_noparamgrad_and_eval\n",
    "from src.utils_freq import rgb2gray, dct, dct2, idct, idct2, batch_dct2, getDCTmatrix\n",
    "\n",
    "from models import LR_model\n",
    "from src.linear_analysis import train_LR\n",
    "from src.linear_analysis import plot_loss_LR, plot_w_tilde_LR, plot_dw_tilde_LR, plot_loss_adv_LR\n",
    "import matplotlib.pyplot as plt\n",
    "import matplotlib.colors as colors\n",
    "\n",
    "from collections import defaultdict\n",
    "import ipdb\n",
    "import copy\n",
    "\n",
    "# hyper params initalization\n",
    "_device = torch.device(\"cuda:0\" if torch.cuda.is_available() else \"cpu\")"
   ]
  },
  {
   "cell_type": "code",
   "execution_count": 8,
   "metadata": {},
   "outputs": [],
   "source": [
    "args = {\"case\": 1,\n",
    "        \"itr\": 1001,\n",
    "        \"bsize\": 128,\n",
    "        \"mu\": 1,\n",
    "        \"std\": 0.5,\n",
    "        \"lambbda\": 0.2,\n",
    "        \"d\": 10,\n",
    "        \"lr\": 1e-1,\n",
    "        \"eps\": 0.1}\n",
    "model = LR_model(args[\"d\"]).to(_device)\n",
    "\n",
    "opt = optim.SGD(model.parameters(), lr = args[\"lr\"])\n",
    "log = train_LR(args, model, opt, _device)\n",
    "\n"
   ]
  },
  {
   "cell_type": "code",
   "execution_count": 5,
   "metadata": {},
   "outputs": [
    {
     "name": "stdout",
     "output_type": "stream",
     "text": [
      "tensor([[5., 3., 3., 3., 3.],\n",
      "        [3., 5., 3., 3., 3.],\n",
      "        [3., 3., 5., 3., 3.],\n",
      "        [3., 3., 3., 5., 3.],\n",
      "        [3., 3., 3., 3., 5.]])\n",
      "torch.return_types.eig(\n",
      "eigenvalues=tensor([[ 2.0000,  0.0000],\n",
      "        [17.0000,  0.0000],\n",
      "        [ 2.0000,  0.0000],\n",
      "        [ 2.0000,  0.0000],\n",
      "        [ 2.0000,  0.0000]]),\n",
      "eigenvectors=tensor([[-0.8944,  0.4472, -0.0256, -0.0289, -0.0237],\n",
      "        [ 0.2236,  0.4472,  0.8721,  0.2957,  0.1411],\n",
      "        [ 0.2236,  0.4472, -0.2821,  0.6804, -0.3997],\n",
      "        [ 0.2236,  0.4472, -0.2821, -0.4737, -0.4833],\n",
      "        [ 0.2236,  0.4472, -0.2821, -0.4737,  0.7656]]))\n"
     ]
    }
   ],
   "source": [
    "m = 3* torch.ones(5,5) + 2*torch.eye(5)\n",
    "# m = 3 * torch.ones(5,5)\n",
    "print(m)\n",
    "result = torch.eig(m, eigenvectors=True)\n",
    "print(result)\n",
    "# print(result[1][:,3])\n",
    "# print(result[1][:,4].t())\n",
    "# print(torch.mm(result[1][:,3].view(1,5),result[1][:,3].view(5,1)))\n",
    "# print(torch.norm(result[1][:,4]))"
   ]
  },
  {
   "cell_type": "code",
   "execution_count": 14,
   "metadata": {},
   "outputs": [
    {
     "name": "stdout",
     "output_type": "stream",
     "text": [
      "tensor([[5.0000, 3.0000, 3.0000, 3.0000, 3.0000],\n",
      "        [3.0000, 5.0000, 3.0000, 3.0000, 3.0000],\n",
      "        [3.0000, 3.0000, 5.0000, 3.0000, 3.0000],\n",
      "        [3.0000, 3.0000, 3.0000, 5.0000, 3.0000],\n",
      "        [3.0000, 3.0000, 3.0000, 3.0000, 5.0000]])\n"
     ]
    }
   ],
   "source": [
    "Q = result[1]\n",
    "lam = result[0][:,0]\n",
    "# print(lam)\n",
    "recon = torch.mm(torch.mm(Q,torch.diag(lam)),torch.inverse(Q))\n",
    "print(recon)"
   ]
  },
  {
   "cell_type": "code",
   "execution_count": 28,
   "metadata": {},
   "outputs": [
    {
     "name": "stdout",
     "output_type": "stream",
     "text": [
      "tensor([[ 1.,  1.,  1.,  1.,  1.],\n",
      "        [ 1., -1.,  0.,  0.,  0.],\n",
      "        [ 1.,  0., -1.,  0.,  0.],\n",
      "        [ 1.,  0.,  0., -1.,  0.],\n",
      "        [ 1.,  0.,  0.,  0., -1.]])\n",
      "tensor([[5.0000, 3.0000, 3.0000, 3.0000, 3.0000],\n",
      "        [3.0000, 5.0000, 3.0000, 3.0000, 3.0000],\n",
      "        [3.0000, 3.0000, 5.0000, 3.0000, 3.0000],\n",
      "        [3.0000, 3.0000, 3.0000, 5.0000, 3.0000],\n",
      "        [3.0000, 3.0000, 3.0000, 3.0000, 5.0000]])\n"
     ]
    }
   ],
   "source": [
    "Q = torch.tensor([[1.,1.,1.,1.,1.],[1.,-1.,0,0,0],[1.,0,-1.,0,0],[1.,0,0,-1.,0],[1.,0,0,0,-1.]])\n",
    "print(Q)\n",
    "lam = torch.tensor([17.,2.,2.,2.,2.])\n",
    "# print(lam)\n",
    "recon = torch.mm(torch.mm(Q,torch.diag(lam)),torch.inverse(Q))\n",
    "print(recon)"
   ]
  },
  {
   "cell_type": "code",
   "execution_count": 13,
   "metadata": {},
   "outputs": [
    {
     "data": {
      "text/plain": [
       "array([[1., 1., 1., 1., 1.],\n",
       "       [1., 1., 1., 1., 1.],\n",
       "       [1., 1., 1., 1., 1.],\n",
       "       [1., 1., 1., 1., 1.],\n",
       "       [1., 1., 1., 1., 1.]])"
      ]
     },
     "execution_count": 13,
     "metadata": {},
     "output_type": "execute_result"
    }
   ],
   "source": [
    "np.ones((5,5))"
   ]
  },
  {
   "cell_type": "code",
   "execution_count": 44,
   "metadata": {},
   "outputs": [
    {
     "name": "stdout",
     "output_type": "stream",
     "text": [
      "[[3. 3. 3. 3. 3.]\n",
      " [3. 3. 3. 3. 3.]\n",
      " [3. 3. 3. 3. 3.]\n",
      " [3. 3. 3. 3. 3.]\n",
      " [3. 3. 3. 3. 3.]]\n",
      "(array([ 0., 15.,  0.,  0.,  0.]), array([[-8.94427191e-01,  4.47213595e-01,  0.00000000e+00,\n",
      "         0.00000000e+00,  0.00000000e+00],\n",
      "       [ 2.23606798e-01,  4.47213595e-01,  8.66025404e-01,\n",
      "        -4.16333634e-17, -4.16333634e-17],\n",
      "       [ 2.23606798e-01,  4.47213595e-01, -2.88675135e-01,\n",
      "        -5.77350269e-01, -5.77350269e-01],\n",
      "       [ 2.23606798e-01,  4.47213595e-01, -2.88675135e-01,\n",
      "         7.88675135e-01, -2.11324865e-01],\n",
      "       [ 2.23606798e-01,  4.47213595e-01, -2.88675135e-01,\n",
      "        -2.11324865e-01,  7.88675135e-01]]))\n"
     ]
    }
   ],
   "source": [
    "# m = 3 * np.ones((5,5)) + 2*np.eye(5)\n",
    "m = 3 * np.ones((5,5))\n",
    "print(m)\n",
    "result = np.linalg.eig(m)\n",
    "print(result)"
   ]
  },
  {
   "cell_type": "code",
   "execution_count": 15,
   "metadata": {},
   "outputs": [
    {
     "name": "stdout",
     "output_type": "stream",
     "text": [
      "tensor([[1., 1., 1., 1., 1.],\n",
      "        [1., 1., 1., 1., 1.],\n",
      "        [1., 1., 1., 1., 1.],\n",
      "        [1., 1., 1., 1., 1.],\n",
      "        [1., 1., 1., 1., 1.]])\n",
      "torch.return_types.eig(\n",
      "eigenvalues=tensor([[ 0.0000e+00,  0.0000e+00],\n",
      "        [ 5.0000e+00,  0.0000e+00],\n",
      "        [ 4.2352e-22,  0.0000e+00],\n",
      "        [-1.4211e-14,  0.0000e+00],\n",
      "        [ 1.9478e-43,  0.0000e+00]]),\n",
      "eigenvectors=tensor([[-0.8944, -0.4472, -0.8944,  0.3338, -0.8944],\n",
      "        [ 0.2236, -0.4472,  0.2236, -0.8869,  0.2236],\n",
      "        [ 0.2236, -0.4472,  0.2236,  0.1844,  0.2236],\n",
      "        [ 0.2236, -0.4472,  0.2236,  0.1844,  0.2236],\n",
      "        [ 0.2236, -0.4472,  0.2236,  0.1844,  0.2236]]))\n"
     ]
    }
   ],
   "source": [
    "m = torch.ones(5,5)\n",
    "print(m)\n",
    "result = torch.eig(m, eigenvectors=True)\n",
    "print(result)"
   ]
  },
  {
   "cell_type": "code",
   "execution_count": 16,
   "metadata": {},
   "outputs": [
    {
     "name": "stdout",
     "output_type": "stream",
     "text": [
      "[[1. 1. 1. 1. 1.]\n",
      " [1. 1. 1. 1. 1.]\n",
      " [1. 1. 1. 1. 1.]\n",
      " [1. 1. 1. 1. 1.]\n",
      " [1. 1. 1. 1. 1.]]\n",
      "[5.00000000e+00 5.65333918e-49 0.00000000e+00 0.00000000e+00\n",
      " 1.73014109e-64]\n",
      "[-0.4472136 -0.4472136 -0.4472136 -0.4472136 -0.4472136]\n"
     ]
    }
   ],
   "source": [
    "m = np.ones([5,5])\n",
    "print(m)\n",
    "result = np.linalg.eig(m)\n",
    "print(result[0])\n",
    "print(result[1][:,0])"
   ]
  },
  {
   "cell_type": "code",
   "execution_count": null,
   "metadata": {},
   "outputs": [],
   "source": [
    "Q = torch.tensor()"
   ]
  }
 ],
 "metadata": {
  "kernelspec": {
   "display_name": "Python (general)",
   "language": "python",
   "name": "general"
  },
  "language_info": {
   "codemirror_mode": {
    "name": "ipython",
    "version": 3
   },
   "file_extension": ".py",
   "mimetype": "text/x-python",
   "name": "python",
   "nbconvert_exporter": "python",
   "pygments_lexer": "ipython3",
   "version": "3.6.7"
  },
  "varInspector": {
   "cols": {
    "lenName": 16,
    "lenType": 16,
    "lenVar": 40
   },
   "kernels_config": {
    "python": {
     "delete_cmd_postfix": "",
     "delete_cmd_prefix": "del ",
     "library": "var_list.py",
     "varRefreshCmd": "print(var_dic_list())"
    },
    "r": {
     "delete_cmd_postfix": ") ",
     "delete_cmd_prefix": "rm(",
     "library": "var_list.r",
     "varRefreshCmd": "cat(var_dic_list()) "
    }
   },
   "position": {
    "height": "307px",
    "left": "1098px",
    "right": "20px",
    "top": "50px",
    "width": "594px"
   },
   "types_to_exclude": [
    "module",
    "function",
    "builtin_function_or_method",
    "instance",
    "_Feature"
   ],
   "window_display": true
  }
 },
 "nbformat": 4,
 "nbformat_minor": 4
}
