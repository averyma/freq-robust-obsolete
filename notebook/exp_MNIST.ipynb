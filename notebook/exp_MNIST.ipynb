{
 "cells": [
  {
   "cell_type": "code",
   "execution_count": 1,
   "metadata": {},
   "outputs": [],
   "source": [
    "import torch\n",
    "import torch.nn as nn\n",
    "import torch.optim as optim\n",
    "from tqdm import trange\n",
    "from torchvision import datasets, transforms\n",
    "from torch.utils.data import DataLoader\n",
    "from torch.autograd import grad\n",
    "import matplotlib.pyplot as plt\n",
    "import matplotlib.colors as colors\n",
    "\n",
    "# hyper params initalization\n",
    "_batch_size = 128\n",
    "_device = torch.device(\"cuda:0\" if torch.cuda.is_available() else \"cpu\")\n",
    "_lr_rate = 0.01\n",
    "_momentum = 0.9\n",
    "_epoch = 50"
   ]
  },
  {
   "cell_type": "code",
   "execution_count": 2,
   "metadata": {},
   "outputs": [],
   "source": [
    "# load MNIST data set into data loader\n",
    "mnist_train = datasets.MNIST(\"./data\", train=True, transform=transforms.ToTensor())\n",
    "mnist_test = datasets.MNIST(\"./data\", train=False,  transform=transforms.ToTensor())\n",
    "train_loader = DataLoader(mnist_train, batch_size = _batch_size, shuffle=True)\n",
    "test_loader = DataLoader(mnist_test, batch_size = _batch_size, shuffle=True)"
   ]
  },
  {
   "cell_type": "code",
   "execution_count": 19,
   "metadata": {},
   "outputs": [],
   "source": [
    "avoid_zero_div = 1e-12\n",
    "\n",
    "class pgd_rand(object):\n",
    "    \"\"\" PGD attacks, with random initialization within the specified lp ball \"\"\"\n",
    "    def __init__(self, **kwargs):\n",
    "        # define default attack parameters here:\n",
    "        self.param = {'ord': np.inf,\n",
    "                      'epsilon': 0.3,\n",
    "                      'alpha': 0.01,\n",
    "                      'num_iter': 40,\n",
    "                      'restarts': 1,\n",
    "                      'loss_fn': nn.CrossEntropyLoss()}\n",
    "        # parse thru the dictionary and modify user-specific params\n",
    "        self.parse_param(**kwargs) \n",
    "        \n",
    "    def generate(self, model, x, y):\n",
    "        epsilon = self.param['epsilon']\n",
    "        alpha = self.param['alpha']\n",
    "        num_iter = self.param['num_iter']\n",
    "        restarts = self.param['restarts']\n",
    "        loss_fn = self.param['loss_fn']\n",
    "        p_norm = self.param['ord'] \n",
    "        \n",
    "        # implementation begins:\n",
    "        max_loss = torch.zeros(y.shape[0]).to(y.device)\n",
    "        max_delta = torch.zeros_like(x)\n",
    "        _dim = x.shape[1] * x.shape[2] * x.shape[3]\n",
    "        \n",
    "        for i in range(restarts):\n",
    "            if p_norm == np.inf:\n",
    "                delta = torch.rand_like(x, requires_grad=True)\n",
    "                delta.data = delta.data * 2. * epsilon - epsilon\n",
    "                delta.data = (x.data + delta.data).clamp(min = 0, max = 1.0) - x.data\n",
    "                for t in range(num_iter):\n",
    "                    model.zero_grad()\n",
    "                    loss = loss_fn(model(x + delta), y)\n",
    "                    loss.backward()\n",
    "                    # first we need to make sure delta is within the specified lp ball\n",
    "                    delta.data = (delta + alpha*delta.grad.detach().sign()).clamp(min = -epsilon, max = epsilon)\n",
    "                    # then we need to make sure x+delta in the next iteration is within the [0,1] range\n",
    "                    delta.data = (x.data + delta.data).clamp(min = 0, max = 1.) - x.data\n",
    "                    delta.grad.zero_()\n",
    "            \n",
    "            # added the if condition to cut 1 additional unnecessary foward pass\n",
    "            if restarts > 1:\n",
    "                all_loss = nn.CrossEntropyLoss(reduction='none')(model(x+delta),y)\n",
    "                max_delta[all_loss >= max_loss] = delta.detach()[all_loss >= max_loss]\n",
    "                max_loss = torch.max(max_loss, all_loss)\n",
    "            else:\n",
    "                max_delta = delta.detach()\n",
    "        return max_delta\n",
    "\n",
    "    def parse_param(self, **kwargs):\n",
    "        for key,value in kwargs.items():\n",
    "            if key in self.param:\n",
    "                self.param[key] = value\n"
   ]
  },
  {
   "cell_type": "code",
   "execution_count": 3,
   "metadata": {},
   "outputs": [],
   "source": [
    "class Net2(nn.Module):\n",
    "    def __init__(self):\n",
    "        super(Net2, self).__init__()\n",
    "        self.conv1 = nn.Conv2d(1, 10, 28, 1, bias = False)\n",
    "        torch.nn.init.xavier_uniform(self.conv1.weight)\n",
    "\n",
    "    def forward(self, x):\n",
    "        \n",
    "        output = self.conv1(x)\n",
    "        return output"
   ]
  },
  {
   "cell_type": "code",
   "execution_count": 10,
   "metadata": {},
   "outputs": [],
   "source": [
    "def one_epoch(model, device, loader, opt, train = True, adv = False):\n",
    "    total_correct = 0\n",
    "    if train:\n",
    "        model.train()\n",
    "    else:\n",
    "        model.eval()\n",
    "\n",
    "    with trange(len(loader)) as t:\n",
    "        for X, y in loader:\n",
    "            X, y = X.to(device), y.to(device)\n",
    "\n",
    "            opt.zero_grad()\n",
    "\n",
    "            if adv:\n",
    "                delta = pgd_rand().generate(model,X,y)\n",
    "                yp = model(X+delta)\n",
    "                loss = nn.CrossEntropyLoss()(yp,y)\n",
    "\n",
    "            else:\n",
    "                yp = model(X)\n",
    "                loss = nn.CrossEntropyLoss()(yp,y)\n",
    "\n",
    "            # ipdb.set_trace()\n",
    "\n",
    "            if train:\n",
    "                loss.backward()\n",
    "                opt.step()\n",
    "\n",
    "            # ipdb.set_trace()\n",
    "            batch_correct = ((yp>0) == y).sum().item()\n",
    "            total_correct += batch_correct\n",
    "            batch_acc = batch_correct / X.shape[0]\n",
    "            # total_loss_adv += loss_adv.item() * X.shape[0]\n",
    "\n",
    "            t.set_postfix(loss = loss.item(), \n",
    "                        batch_acc = '{0:.2f}%'.format(batch_acc*100), \n",
    "                        total_acc = '{0:.2f}%'.format(total_correct/loader.dataset.data.shape[0]*100))\n",
    "            t.update()"
   ]
  },
  {
   "cell_type": "code",
   "execution_count": 11,
   "metadata": {},
   "outputs": [
    {
     "name": "stderr",
     "output_type": "stream",
     "text": [
      "/h/ama/.conda/envs/general/lib/python3.6/site-packages/ipykernel_launcher.py:16: UserWarning: nn.init.xavier_uniform is now deprecated in favor of nn.init.xavier_uniform_.\n",
      "  app.launch_new_instance()\n",
      "  0%|          | 0/469 [00:00<?, ?it/s]\n"
     ]
    },
    {
     "ename": "RuntimeError",
     "evalue": "1only batches of spatial targets supported (non-empty 3D tensors) but got targets of size: : [128]",
     "output_type": "error",
     "traceback": [
      "\u001b[0;31m---------------------------------------------------------------------------\u001b[0m",
      "\u001b[0;31mRuntimeError\u001b[0m                              Traceback (most recent call last)",
      "\u001b[0;32m<ipython-input-11-1b42fd96f221>\u001b[0m in \u001b[0;36m<module>\u001b[0;34m\u001b[0m\n\u001b[1;32m      7\u001b[0m \u001b[0;34m\u001b[0m\u001b[0m\n\u001b[1;32m      8\u001b[0m \u001b[0;32mfor\u001b[0m \u001b[0mepoch\u001b[0m \u001b[0;32min\u001b[0m \u001b[0mrange\u001b[0m\u001b[0;34m(\u001b[0m\u001b[0;36m1\u001b[0m\u001b[0;34m,\u001b[0m \u001b[0m_epoch\u001b[0m \u001b[0;34m+\u001b[0m \u001b[0;36m1\u001b[0m\u001b[0;34m)\u001b[0m\u001b[0;34m:\u001b[0m\u001b[0;34m\u001b[0m\u001b[0;34m\u001b[0m\u001b[0m\n\u001b[0;32m----> 9\u001b[0;31m     \u001b[0mone_epoch\u001b[0m\u001b[0;34m(\u001b[0m\u001b[0mmodel\u001b[0m\u001b[0;34m,\u001b[0m \u001b[0m_device\u001b[0m\u001b[0;34m,\u001b[0m \u001b[0mtrain_loader\u001b[0m\u001b[0;34m,\u001b[0m \u001b[0mopt\u001b[0m\u001b[0;34m,\u001b[0m \u001b[0mtrain\u001b[0m \u001b[0;34m=\u001b[0m \u001b[0;32mTrue\u001b[0m\u001b[0;34m,\u001b[0m \u001b[0madv\u001b[0m \u001b[0;34m=\u001b[0m \u001b[0;32mFalse\u001b[0m\u001b[0;34m)\u001b[0m\u001b[0;34m\u001b[0m\u001b[0;34m\u001b[0m\u001b[0m\n\u001b[0m",
      "\u001b[0;32m<ipython-input-10-f6a0aeb49db3>\u001b[0m in \u001b[0;36mone_epoch\u001b[0;34m(model, device, loader, opt, train, adv)\u001b[0m\n\u001b[1;32m     63\u001b[0m                 \u001b[0myp\u001b[0m \u001b[0;34m=\u001b[0m \u001b[0mmodel\u001b[0m\u001b[0;34m(\u001b[0m\u001b[0mX\u001b[0m\u001b[0;34m)\u001b[0m\u001b[0;34m\u001b[0m\u001b[0;34m\u001b[0m\u001b[0m\n\u001b[1;32m     64\u001b[0m                 \u001b[0;31m#             loss = nn.BCEWithLogitsLoss()(yp, y)\u001b[0m\u001b[0;34m\u001b[0m\u001b[0;34m\u001b[0m\u001b[0;34m\u001b[0m\u001b[0m\n\u001b[0;32m---> 65\u001b[0;31m                 \u001b[0mloss\u001b[0m \u001b[0;34m=\u001b[0m \u001b[0mnn\u001b[0m\u001b[0;34m.\u001b[0m\u001b[0mCrossEntropyLoss\u001b[0m\u001b[0;34m(\u001b[0m\u001b[0;34m)\u001b[0m\u001b[0;34m(\u001b[0m\u001b[0myp\u001b[0m\u001b[0;34m,\u001b[0m\u001b[0my\u001b[0m\u001b[0;34m)\u001b[0m\u001b[0;34m\u001b[0m\u001b[0;34m\u001b[0m\u001b[0m\n\u001b[0m\u001b[1;32m     66\u001b[0m \u001b[0;34m\u001b[0m\u001b[0m\n\u001b[1;32m     67\u001b[0m             \u001b[0;31m# ipdb.set_trace()\u001b[0m\u001b[0;34m\u001b[0m\u001b[0;34m\u001b[0m\u001b[0;34m\u001b[0m\u001b[0m\n",
      "\u001b[0;32m~/.conda/envs/general/lib/python3.6/site-packages/torch/nn/modules/module.py\u001b[0m in \u001b[0;36m__call__\u001b[0;34m(self, *input, **kwargs)\u001b[0m\n\u001b[1;32m    530\u001b[0m             \u001b[0mresult\u001b[0m \u001b[0;34m=\u001b[0m \u001b[0mself\u001b[0m\u001b[0;34m.\u001b[0m\u001b[0m_slow_forward\u001b[0m\u001b[0;34m(\u001b[0m\u001b[0;34m*\u001b[0m\u001b[0minput\u001b[0m\u001b[0;34m,\u001b[0m \u001b[0;34m**\u001b[0m\u001b[0mkwargs\u001b[0m\u001b[0;34m)\u001b[0m\u001b[0;34m\u001b[0m\u001b[0;34m\u001b[0m\u001b[0m\n\u001b[1;32m    531\u001b[0m         \u001b[0;32melse\u001b[0m\u001b[0;34m:\u001b[0m\u001b[0;34m\u001b[0m\u001b[0;34m\u001b[0m\u001b[0m\n\u001b[0;32m--> 532\u001b[0;31m             \u001b[0mresult\u001b[0m \u001b[0;34m=\u001b[0m \u001b[0mself\u001b[0m\u001b[0;34m.\u001b[0m\u001b[0mforward\u001b[0m\u001b[0;34m(\u001b[0m\u001b[0;34m*\u001b[0m\u001b[0minput\u001b[0m\u001b[0;34m,\u001b[0m \u001b[0;34m**\u001b[0m\u001b[0mkwargs\u001b[0m\u001b[0;34m)\u001b[0m\u001b[0;34m\u001b[0m\u001b[0;34m\u001b[0m\u001b[0m\n\u001b[0m\u001b[1;32m    533\u001b[0m         \u001b[0;32mfor\u001b[0m \u001b[0mhook\u001b[0m \u001b[0;32min\u001b[0m \u001b[0mself\u001b[0m\u001b[0;34m.\u001b[0m\u001b[0m_forward_hooks\u001b[0m\u001b[0;34m.\u001b[0m\u001b[0mvalues\u001b[0m\u001b[0;34m(\u001b[0m\u001b[0;34m)\u001b[0m\u001b[0;34m:\u001b[0m\u001b[0;34m\u001b[0m\u001b[0;34m\u001b[0m\u001b[0m\n\u001b[1;32m    534\u001b[0m             \u001b[0mhook_result\u001b[0m \u001b[0;34m=\u001b[0m \u001b[0mhook\u001b[0m\u001b[0;34m(\u001b[0m\u001b[0mself\u001b[0m\u001b[0;34m,\u001b[0m \u001b[0minput\u001b[0m\u001b[0;34m,\u001b[0m \u001b[0mresult\u001b[0m\u001b[0;34m)\u001b[0m\u001b[0;34m\u001b[0m\u001b[0;34m\u001b[0m\u001b[0m\n",
      "\u001b[0;32m~/.conda/envs/general/lib/python3.6/site-packages/torch/nn/modules/loss.py\u001b[0m in \u001b[0;36mforward\u001b[0;34m(self, input, target)\u001b[0m\n\u001b[1;32m    914\u001b[0m     \u001b[0;32mdef\u001b[0m \u001b[0mforward\u001b[0m\u001b[0;34m(\u001b[0m\u001b[0mself\u001b[0m\u001b[0;34m,\u001b[0m \u001b[0minput\u001b[0m\u001b[0;34m,\u001b[0m \u001b[0mtarget\u001b[0m\u001b[0;34m)\u001b[0m\u001b[0;34m:\u001b[0m\u001b[0;34m\u001b[0m\u001b[0;34m\u001b[0m\u001b[0m\n\u001b[1;32m    915\u001b[0m         return F.cross_entropy(input, target, weight=self.weight,\n\u001b[0;32m--> 916\u001b[0;31m                                ignore_index=self.ignore_index, reduction=self.reduction)\n\u001b[0m\u001b[1;32m    917\u001b[0m \u001b[0;34m\u001b[0m\u001b[0m\n\u001b[1;32m    918\u001b[0m \u001b[0;34m\u001b[0m\u001b[0m\n",
      "\u001b[0;32m~/.conda/envs/general/lib/python3.6/site-packages/torch/nn/functional.py\u001b[0m in \u001b[0;36mcross_entropy\u001b[0;34m(input, target, weight, size_average, ignore_index, reduce, reduction)\u001b[0m\n\u001b[1;32m   2019\u001b[0m     \u001b[0;32mif\u001b[0m \u001b[0msize_average\u001b[0m \u001b[0;32mis\u001b[0m \u001b[0;32mnot\u001b[0m \u001b[0;32mNone\u001b[0m \u001b[0;32mor\u001b[0m \u001b[0mreduce\u001b[0m \u001b[0;32mis\u001b[0m \u001b[0;32mnot\u001b[0m \u001b[0;32mNone\u001b[0m\u001b[0;34m:\u001b[0m\u001b[0;34m\u001b[0m\u001b[0;34m\u001b[0m\u001b[0m\n\u001b[1;32m   2020\u001b[0m         \u001b[0mreduction\u001b[0m \u001b[0;34m=\u001b[0m \u001b[0m_Reduction\u001b[0m\u001b[0;34m.\u001b[0m\u001b[0mlegacy_get_string\u001b[0m\u001b[0;34m(\u001b[0m\u001b[0msize_average\u001b[0m\u001b[0;34m,\u001b[0m \u001b[0mreduce\u001b[0m\u001b[0;34m)\u001b[0m\u001b[0;34m\u001b[0m\u001b[0;34m\u001b[0m\u001b[0m\n\u001b[0;32m-> 2021\u001b[0;31m     \u001b[0;32mreturn\u001b[0m \u001b[0mnll_loss\u001b[0m\u001b[0;34m(\u001b[0m\u001b[0mlog_softmax\u001b[0m\u001b[0;34m(\u001b[0m\u001b[0minput\u001b[0m\u001b[0;34m,\u001b[0m \u001b[0;36m1\u001b[0m\u001b[0;34m)\u001b[0m\u001b[0;34m,\u001b[0m \u001b[0mtarget\u001b[0m\u001b[0;34m,\u001b[0m \u001b[0mweight\u001b[0m\u001b[0;34m,\u001b[0m \u001b[0;32mNone\u001b[0m\u001b[0;34m,\u001b[0m \u001b[0mignore_index\u001b[0m\u001b[0;34m,\u001b[0m \u001b[0;32mNone\u001b[0m\u001b[0;34m,\u001b[0m \u001b[0mreduction\u001b[0m\u001b[0;34m)\u001b[0m\u001b[0;34m\u001b[0m\u001b[0;34m\u001b[0m\u001b[0m\n\u001b[0m\u001b[1;32m   2022\u001b[0m \u001b[0;34m\u001b[0m\u001b[0m\n\u001b[1;32m   2023\u001b[0m \u001b[0;34m\u001b[0m\u001b[0m\n",
      "\u001b[0;32m~/.conda/envs/general/lib/python3.6/site-packages/torch/nn/functional.py\u001b[0m in \u001b[0;36mnll_loss\u001b[0;34m(input, target, weight, size_average, ignore_index, reduce, reduction)\u001b[0m\n\u001b[1;32m   1838\u001b[0m         \u001b[0mret\u001b[0m \u001b[0;34m=\u001b[0m \u001b[0mtorch\u001b[0m\u001b[0;34m.\u001b[0m\u001b[0m_C\u001b[0m\u001b[0;34m.\u001b[0m\u001b[0m_nn\u001b[0m\u001b[0;34m.\u001b[0m\u001b[0mnll_loss\u001b[0m\u001b[0;34m(\u001b[0m\u001b[0minput\u001b[0m\u001b[0;34m,\u001b[0m \u001b[0mtarget\u001b[0m\u001b[0;34m,\u001b[0m \u001b[0mweight\u001b[0m\u001b[0;34m,\u001b[0m \u001b[0m_Reduction\u001b[0m\u001b[0;34m.\u001b[0m\u001b[0mget_enum\u001b[0m\u001b[0;34m(\u001b[0m\u001b[0mreduction\u001b[0m\u001b[0;34m)\u001b[0m\u001b[0;34m,\u001b[0m \u001b[0mignore_index\u001b[0m\u001b[0;34m)\u001b[0m\u001b[0;34m\u001b[0m\u001b[0;34m\u001b[0m\u001b[0m\n\u001b[1;32m   1839\u001b[0m     \u001b[0;32melif\u001b[0m \u001b[0mdim\u001b[0m \u001b[0;34m==\u001b[0m \u001b[0;36m4\u001b[0m\u001b[0;34m:\u001b[0m\u001b[0;34m\u001b[0m\u001b[0;34m\u001b[0m\u001b[0m\n\u001b[0;32m-> 1840\u001b[0;31m         \u001b[0mret\u001b[0m \u001b[0;34m=\u001b[0m \u001b[0mtorch\u001b[0m\u001b[0;34m.\u001b[0m\u001b[0m_C\u001b[0m\u001b[0;34m.\u001b[0m\u001b[0m_nn\u001b[0m\u001b[0;34m.\u001b[0m\u001b[0mnll_loss2d\u001b[0m\u001b[0;34m(\u001b[0m\u001b[0minput\u001b[0m\u001b[0;34m,\u001b[0m \u001b[0mtarget\u001b[0m\u001b[0;34m,\u001b[0m \u001b[0mweight\u001b[0m\u001b[0;34m,\u001b[0m \u001b[0m_Reduction\u001b[0m\u001b[0;34m.\u001b[0m\u001b[0mget_enum\u001b[0m\u001b[0;34m(\u001b[0m\u001b[0mreduction\u001b[0m\u001b[0;34m)\u001b[0m\u001b[0;34m,\u001b[0m \u001b[0mignore_index\u001b[0m\u001b[0;34m)\u001b[0m\u001b[0;34m\u001b[0m\u001b[0;34m\u001b[0m\u001b[0m\n\u001b[0m\u001b[1;32m   1841\u001b[0m     \u001b[0;32melse\u001b[0m\u001b[0;34m:\u001b[0m\u001b[0;34m\u001b[0m\u001b[0;34m\u001b[0m\u001b[0m\n\u001b[1;32m   1842\u001b[0m         \u001b[0;31m# dim == 3 or dim > 4\u001b[0m\u001b[0;34m\u001b[0m\u001b[0;34m\u001b[0m\u001b[0;34m\u001b[0m\u001b[0m\n",
      "\u001b[0;31mRuntimeError\u001b[0m: 1only batches of spatial targets supported (non-empty 3D tensors) but got targets of size: : [128]"
     ]
    }
   ],
   "source": [
    "model = Net2().to(_device)\n",
    "# mask_weight(model, 13, device)\n",
    "# init_weight = list(model.parameters())[0].data.view(28,28).detach().cpu().numpy()\n",
    "\n",
    "\n",
    "opt = optim.SGD(model.parameters(), lr=_lr_rate)\n",
    "\n",
    "for epoch in range(1, _epoch + 1):\n",
    "    one_epoch(model, _device, train_loader, opt, train = True, adv = False)"
   ]
  },
  {
   "cell_type": "code",
   "execution_count": 9,
   "metadata": {},
   "outputs": [],
   "source": [
    "# specifying model and optimizer\n",
    "_model_adv = l2().to(_device)\n",
    "_model_path = './weight/binary_mnist_l2_adv_20190813_152501.pt'\n",
    "_model_adv.load_state_dict(torch.load(_model_path, map_location = _device))\n",
    "_model_adv.to(_device)\n",
    "_model_adv.eval()\n",
    "\n",
    "# specifying model and optimizer\n",
    "_model_H = l2().to(_device)\n",
    "_model_path = './weight/binary_mnist_l2_H_20190820_165101.pt'\n",
    "_model_H.load_state_dict(torch.load(_model_path, map_location = _device))\n",
    "_model_H.to(_device)\n",
    "_model_H.eval()\n",
    "\n",
    "# label 0: 3, label 1: 7 \n",
    "weight_adv = list(_model_adv.parameters())[0]\n",
    "bias_adv = list(_model_adv.parameters())[1]\n",
    "weight_H = list(_model_H.parameters())[0]\n",
    "bias_H = list(_model_H.parameters())[1]"
   ]
  },
  {
   "cell_type": "code",
   "execution_count": 14,
   "metadata": {},
   "outputs": [
    {
     "data": {
      "text/plain": [
       "Text(0.5, 0, '||w||_1 = 9.73')"
      ]
     },
     "execution_count": 14,
     "metadata": {},
     "output_type": "execute_result"
    },
    {
     "data": {
      "image/png": "[encoded data removed]",
      "text/plain": [
       "<Figure size 1080x360 with 5 Axes>"
      ]
     },
     "metadata": {
      "needs_background": "light"
     },
     "output_type": "display_data"
    }
   ],
   "source": [
    "fig_test = plt.figure(figsize = [15,5])\n",
    "gs = fig_test.add_gridspec(1,3)\n",
    "fig_test.add_subplot(gs[0,0]).plot(weight_H.squeeze().sort()[0].detach().cpu().numpy(),color = 'C2',label = 'hessian')\n",
    "\n",
    "\n",
    "fig_test.add_subplot(gs[0,0]).plot(weight_adv.squeeze().sort()[0].detach().cpu().numpy(),color = 'C1',label = 'adv')\n",
    "fig_test.add_subplot(gs[0,0]).set_title('Comparison of the weight (sorted)\\nassigned to the inputs by each model')\n",
    "fig_test.add_subplot(gs[0,0]).legend()\n",
    "fig_test.add_subplot(gs[0,0]).set_xlabel('Feature')\n",
    "fig_test.add_subplot(gs[0,0]).set_ylabel('Weight')\n",
    "\n",
    "\n",
    "# blue: positive, red: negative\n",
    "top = plt.cm.get_cmap('Oranges_r', 128)\n",
    "bottom = plt.cm.get_cmap('Blues', 128)\n",
    "\n",
    "newcolors = np.vstack((top(np.linspace(0, 1, 128)),\n",
    "                       bottom(np.linspace(0, 1, 128))))\n",
    "newcmp = colors.ListedColormap(newcolors, name='OrangeBlue')\n",
    "\n",
    "# p2 = fig_test.add_subplot(gs[1,2]).imshow(weight_adv.view(28,28).cpu().detach().numpy(),cmap = newcmp, vmin = -1, vmax = 1)\n",
    "p2 = fig_test.add_subplot(gs[0,1]).imshow(weight_adv.view(28,28).cpu().detach().numpy(),cmap = newcmp)\n",
    "fig_test.colorbar(p2)\n",
    "fig_test.add_subplot(gs[0,1]).set_yticklabels([])\n",
    "fig_test.add_subplot(gs[0,1]).set_xticklabels([])\n",
    "\n",
    "# p4 = fig_test.add_subplot(gs[1,3]).imshow(weight_H.view(28,28).cpu().detach().numpy(),cmap = newcmp, vmin = -1, vmax = 1)\n",
    "p4 = fig_test.add_subplot(gs[0,2]).imshow(weight_H.view(28,28).cpu().detach().numpy(),cmap = newcmp)\n",
    "fig_test.colorbar(p4)\n",
    "fig_test.add_subplot(gs[0,2]).set_yticklabels([])\n",
    "fig_test.add_subplot(gs[0,2]).set_xticklabels([])\n",
    "\n",
    "fig_test.add_subplot(gs[0,1]).set_title('model_adv weight')\n",
    "fig_test.add_subplot(gs[0,2]).set_title('model_H weight')\n",
    "fig_test.add_subplot(gs[0,1]).set_xlabel('||w||_1 = {0:.2f}'.format(weight_adv.abs().sum().item()))\n",
    "fig_test.add_subplot(gs[0,2]).set_xlabel('||w||_1 = {0:.2f}'.format(weight_H.abs().sum().item()))"
   ]
  },
  {
   "cell_type": "code",
   "execution_count": 16,
   "metadata": {},
   "outputs": [
    {
     "name": "stdout",
     "output_type": "stream",
     "text": [
      "95.09322865554465\n"
     ]
    }
   ],
   "source": [
    "for X,y in train_loader:\n",
    "    X,y = X.to(_device), y.to(_device)\n",
    "    break\n",
    "diff = torch.mean(X[y==1,:,:,:], dim=0).squeeze() - torch.mean(X[y==0,:,:,:], dim=0).squeeze()\n",
    "total_loss, total_correct = 0.,0.\n",
    "\n",
    "for X,y in test_loader:\n",
    "    X,y = X.to(_device), y.to(_device).float()\n",
    "    yp = nn.Sigmoid()(torch.matmul(diff.view(1,784), X.view(X.shape[0],784,1)).view(X.shape[0]))\n",
    "    total_correct += ((yp.squeeze()>0.5).float() == y.squeeze().float()).sum().item()\n",
    "#     total_loss += loss.item() * X.shape[0]\n",
    "acc = total_correct / len(test_loader.dataset)\n",
    "\n",
    "print(acc*100)\n"
   ]
  },
  {
   "cell_type": "code",
   "execution_count": null,
   "metadata": {},
   "outputs": [],
   "source": []
  }
 ],
 "metadata": {
  "kernelspec": {
   "display_name": "Python (general)",
   "language": "python",
   "name": "general"
  },
  "language_info": {
   "codemirror_mode": {
    "name": "ipython",
    "version": 3
   },
   "file_extension": ".py",
   "mimetype": "text/x-python",
   "name": "python",
   "nbconvert_exporter": "python",
   "pygments_lexer": "ipython3",
   "version": "3.6.7"
  },
  "varInspector": {
   "cols": {
    "lenName": 16,
    "lenType": 16,
    "lenVar": 40
   },
   "kernels_config": {
    "python": {
     "delete_cmd_postfix": "",
     "delete_cmd_prefix": "del ",
     "library": "var_list.py",
     "varRefreshCmd": "print(var_dic_list())"
    },
    "r": {
     "delete_cmd_postfix": ") ",
     "delete_cmd_prefix": "rm(",
     "library": "var_list.r",
     "varRefreshCmd": "cat(var_dic_list()) "
    }
   },
   "position": {
    "height": "307px",
    "left": "1098px",
    "right": "20px",
    "top": "50px",
    "width": "594px"
   },
   "types_to_exclude": [
    "module",
    "function",
    "builtin_function_or_method",
    "instance",
    "_Feature"
   ],
   "window_display": true
  }
 },
 "nbformat": 4,
 "nbformat_minor": 4
}
